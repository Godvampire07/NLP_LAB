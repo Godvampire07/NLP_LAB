{
 "nbformat": 4,
 "nbformat_minor": 0,
 "metadata": {
  "colab": {
   "provenance": []
  },
  "kernelspec": {
   "name": "python3",
   "display_name": "Python 3"
  },
  "language_info": {
   "name": "python"
  }
 },
 "cells": [
  {
   "cell_type": "code",
   "source": [
    "import pandas as pd\n",
    "import numpy as np\n",
    "import re\n",
    "#import os\n",
    "import matplotlib.pyplot as plt\n",
    "import seaborn as sns\n",
    "from collections import Counter # extract a slice of an iterator \u2014 similar to list slicing, but it works on any iterable (even infinite ones or generators).\n",
    "from itertools import islice # count/freq of strings"
   ],
   "metadata": {
    "id": "4pPywaweCndi"
   },
   "execution_count": 1,
   "outputs": []
  },
  {
   "cell_type": "code",
   "execution_count": 2,
   "metadata": {
    "id": "qoROEq9nZTN4",
    "colab": {
     "base_uri": "https://localhost:8080/",
     "height": 243,
     "referenced_widgets": [
      "dbce43ac687f4284bed5212a2e8cf413",
      "a78b0e90bfff4cada38d5def501c6dd1",
      "1d46aa21dc5f4092b5d2babb92ff0584",
      "1e2b53b83f4b47aeb8b182d5204788a2",
      "df1f057d492d470e9a82f6c217ce7e02",
      "a6510b3686ea48e7b98d8dcd447ea839",
      "e28f4ef4f1d641f38ae3c832cf027c7d",
      "276af80373d64805a08bc5693a9c49a4",
      "e950222ff17640fc85bcad9b0a714b02",
      "d168003d9198433494679d10d86708e5",
      "a6257016dc4b424a9f6bedbcf67fc441"
     ]
    },
    "outputId": "4e7ffaf2-9138-485f-ac60-c783a28b00e9"
   },
   "outputs": [
    {
     "output_type": "stream",
     "name": "stderr",
     "text": [
      "/usr/local/lib/python3.11/dist-packages/huggingface_hub/utils/_auth.py:94: UserWarning: \n",
      "The secret `HF_TOKEN` does not exist in your Colab secrets.\n",
      "To authenticate with the Hugging Face Hub, create a token in your settings tab (https://huggingface.co/settings/tokens), set it as secret in your Google Colab and restart your session.\n",
      "You will be able to reuse this secret in all of your notebooks.\n",
      "Please note that authentication is recommended but still optional to access public models or datasets.\n",
      "  warnings.warn(\n"
     ]
    },
    {
     "output_type": "display_data",
     "data": {
      "text/plain": [
       "README.md: 0.00B [00:00, ?B/s]"
      ],
      "application/vnd.jupyter.widget-view+json": {
       "version_major": 2,
       "version_minor": 0,
       "model_id": "dbce43ac687f4284bed5212a2e8cf413"
      }
     },
     "metadata": {}
    },
    {
     "output_type": "display_data",
     "data": {
      "text/plain": [
       "IterableDataset({\n",
       "    features: Unknown,\n",
       "    num_shards: 1\n",
       "})"
      ]
     },
     "metadata": {}
    }
   ],
   "source": [
    "from datasets import load_dataset\n",
    "dataset = load_dataset(\"ai4bharat/IndicCorpV2\",split = \"mar_Deva\" , streaming = True)\n",
    "display(dataset)"
   ]
  },
  {
   "cell_type": "code",
   "source": [
    "#sample values\n",
    "for i, example in enumerate(islice(dataset, 5)):\n",
    "    print(f\"{example['text']}\")"
   ],
   "metadata": {
    "colab": {
     "base_uri": "https://localhost:8080/"
    },
    "id": "AuGti1uvfl30",
    "outputId": "efa05774-dcd2-4608-82f0-cad21c296efa"
   },
   "execution_count": 3,
   "outputs": [
    {
     "output_type": "stream",
     "name": "stdout",
     "text": [
      "\u090a\u0924\u0940 \u0938\u0902\u0935\u0930\u094d\u0927\u0928 \u0924\u0902\u0924\u094d\u0930\u093e\u091a\u0947 \u0905\u0928\u0947\u0915 \u0909\u092a\u092f\u094b\u0917 \u0906\u0939\u0947\u0924. \u092f\u093e \u0924\u0902\u0924\u094d\u0930\u093e\u091a\u093e \u0909\u092a\u092f\u094b\u0917 \u0935\u093f\u0936\u0947\u0937\u0915\u0930\u0942\u0928 \u091c\u0940\u0935\u0936\u093e\u0938\u094d\u0924\u094d\u0930 \u0935 \u0935\u0948\u0926\u094d\u092f\u0915\u0936\u093e\u0938\u094d\u0924\u094d\u0930\u093e\u0924 \u0939\u094b\u0924\u094b. \u0935\u092f\u094b\u0935\u0943\u0926\u094d\u0927\u0940, \u092a\u094b\u0937\u0923, \u0932\u0938\u0928\u093f\u0930\u094d\u092e\u093f\u0924\u0940, \u091c\u0928\u094d\u092e\u091c\u093e\u0924 \u0930\u094b\u0917\u093e\u0902\u091a\u0947 \u0928\u093f\u0926\u093e\u0928, \u0907\u0902\u0926\u094d\u0930\u093f\u092f\u093e\u0902\u091a\u0947 \u0930\u094b\u092a\u0923, \u0915\u0930\u094d\u0915\u0930\u094b\u0917 \u0938\u0902\u0936\u094b\u0927\u0928 \u0935 \u0917\u0930\u094d\u092d\u092a\u094b\u0937\u0923 \u092f\u093e \u0915\u094d\u0937\u0947\u0924\u094d\u0930\u093e\u0902\u0924 \u090a\u0924\u0940 \u0938\u0902\u0935\u0930\u094d\u0927\u0928 \u0924\u0902\u0924\u094d\u0930 \u092a\u094d\u0930\u093e\u092e\u0941\u0916\u094d\u092f\u093e\u0928\u0947 \u0935\u093e\u092a\u0930\u0932\u0947 \u091c\u093e\u0924\u0947. \u092a\u0947\u0936\u0940\u0902\u091a\u094d\u092f\u093e \u091a\u092f\u093e\u092a\u091a\u092f\u093e\u0935\u0930 \u090f\u0916\u093e\u0926\u094d\u092f\u093e \u0918\u091f\u0915\u093e\u091a\u093e \u092a\u0930\u093f\u0923\u093e\u092e \u092a\u093e\u0939\u0923\u0947, \u0938\u093e\u092e\u093e\u0928\u094d\u092f \u0915\u093f\u0902\u0935\u093e \u0915\u0930\u094d\u0915\u0930\u094b\u0917\u093e\u091a\u094d\u092f\u093e \u092a\u0947\u0936\u0940\u0902\u0935\u0930 \u0914\u0937\u0927\u093e\u0902\u091a\u093e \u0939\u094b\u0923\u093e\u0930\u093e \u092a\u0930\u093f\u0923\u093e\u092e \u092a\u093e\u0939\u0923\u0947, \u092a\u094d\u0930\u092f\u094b\u0917\u0936\u093e\u0933\u0947\u0924 \u0924\u094d\u0935\u091a\u093e \u0924\u092f\u093e\u0930 \u0915\u0930\u0923\u0947 \u0907. \u092c\u093e\u092c\u0940 \u090a\u0924\u0940 \u0938\u0902\u0935\u0930\u094d\u0927\u0928\u093e\u092e\u0941\u0933\u0947 \u0936\u0915\u094d\u092f \u091d\u093e\u0932\u094d\u092f\u093e \u0906\u0939\u0947\u0924. \u092d\u093e\u091c\u0932\u0947\u0932\u094d\u092f\u093e \u0930\u0941\u0917\u094d\u0923\u093e\u091a\u094d\u092f\u093e \u0924\u094d\u0935\u091a\u093e\u0930\u094b\u092a\u0923\u093e\u0938\u093e\u0920\u0940 \u090a\u0924\u0940 \u0938\u0902\u0935\u0930\u094d\u0927\u0928\u093e\u0926\u094d\u0935\u093e\u0930\u0947 \u0928\u093f\u0930\u094d\u092e\u093e\u0923 \u0915\u0947\u0932\u0947\u0932\u0940 \u0924\u094d\u0935\u091a\u093e \u0935\u093e\u092a\u0930\u0932\u0940 \u091c\u093e\u0924\u0947.\n",
      "\n",
      "\u0936\u0939\u0930\u093e\u0924\u0940\u0932 \u092e\u093e\u0927\u094d\u092f\u092e\u093f\u0915 \u0935\u093f\u092d\u093e\u0917\u093e\u091a\u094d\u092f\u093e \u0936\u093e\u0933\u093e \u0969 \u091c\u093e\u0928\u0947\u0935\u093e\u0930\u0940\u092a\u0930\u094d\u092f\u0902\u0924 \u0935\u093f\u0926\u094d\u092f\u093e\u0930\u094d\u0925\u094d\u092f\u093e\u0902\u0938\u093e\u0920\u0940 \u092c\u0902\u0926 \u0920\u0947\u0935\u0923\u094d\u092f\u093e\u0924 \u092f\u0947\u0923\u093e\u0930 \u0906\u0939\u0947\u0924. \u092e\u093e\u0924\u094d\u0930, \u0936\u093f\u0915\u094d\u0937\u0915\u093e\u0902\u0928\u093e \u0936\u093e\u200c\u0933\u0947\u0924 \u091c\u093e\u0923\u0947 \u0905\u0928\u093f\u0935\u093e\u0930\u094d\u092f \u0915\u0947\u0932\u0947 \u0906\u0939\u0947. \u0924\u094d\u092f\u093e\u092e\u0941\u0933\u0947 \u0936\u093f\u0915\u094d\u0937\u0915, \u0936\u093f\u0915\u094d\u0937\u0915\u0947\u0924\u0930 \u0915\u0930\u094d\u092e\u091a\u093e\u0931\u094d\u092f\u093e\u0902\u0928\u093e \u0915\u094b\u0930\u094b\u0928\u093e \u0924\u092a\u093e\u0938\u0923\u0940 \u0938\u0915\u094d\u0924\u0940\u091a\u0940 \u0915\u0947\u0932\u0940 \u0906\u0939\u0947. \u0938\u094b\u092e\u0935\u093e\u0930\u0940 \u096b\u096f\u096e \u0936\u093f\u0915\u094d\u0937\u0915\u093e\u0902\u091a\u0940 \u0924\u092a\u093e\u0938\u0923\u0940 \u0915\u0930\u0923\u094d\u092f\u093e\u0924 \u0906\u0932\u0940. \u0930\u0935\u093f\u0935\u093e\u0930\u0940 \u0968\u096f\u096e \u0936\u093f\u0915\u094d\u0937\u0915\u093e\u0902\u091a\u0940 \u0924\u092a\u093e\u0938\u0923\u0940 \u091d\u093e\u0932\u0940 \u0939\u094b\u0924\u0940. \u0924\u094d\u092f\u093e\u092e\u0927\u094d\u092f\u0947 \u0967\u096e \u091c\u0923\u093e\u0902\u0928\u093e \u0915\u094b\u0930\u094b\u0928\u093e\u091a\u0940 \u092c\u093e\u0927\u093e \u091d\u093e\u0932\u094d\u092f\u093e\u091a\u0947 \u0906\u0922\u0933\u0932\u0947.  \u0906\u0924\u093e\u092a\u0930\u094d\u092f\u0902\u0924 \u0936\u0902\u092d\u0930\u092a\u0947\u0915\u094d\u0937\u093e \u0905\u0927\u093f\u0915 \u0936\u093f\u0915\u094d\u0937\u0915, \u0936\u093f\u0915\u094d\u0937\u0915\u0947\u0924\u0930 \u0915\u0930\u094d\u092e\u091a\u093e\u0930\u0940 \u092a\u0949\u091d\u093f\u091f\u093f\u0935\u094d\u0939 \u0906\u0922\u0933\u0932\u0947 \u0906\u0939\u0947\u0924.\n",
      "\n",
      "\u0930\u093e\u0923\u0947 \u092f\u093e\u0902\u0928\u0940 \u0936\u093f\u0935\u0938\u0947\u0928\u0947\u091a\u094d\u092f\u093e \u092e\u0902\u0924\u094d\u0930\u094d\u092f\u093e\u0935\u0930 \u0915\u0947\u0932\u0947\u0932\u094d\u092f\u093e \u0906\u0930\u094b\u092a\u093e\u0902\u0935\u0930 \u0936\u093f\u0935\u0938\u0947\u0928\u0947\u0928\u0947 \u0915\u094b\u0923\u0924\u0940\u0939\u0940 \u092a\u094d\u0930\u0924\u093f\u0915\u094d\u0930\u093f\u092f\u093e \u0928 \u0926\u0947\u0923\u094d\u092f\u093e\u091a\u093e \u092a\u0935\u093f\u0924\u094d\u0930\u093e \u0918\u0947\u0924\u0932\u093e \u0906\u0939\u0947.\n"
     ]
    }
   ]
  },
  {
   "cell_type": "code",
   "source": [
    "# Sentence tokenizer\n",
    "def sentence_tokenizer(text):\n",
    "    return re.split(r'(?<=[\u0964!?|])\\s+', text.strip())\n",
    "#  ?<=  Lookbehind means: \u201cMatch something only if it is immediately preceded by a certain pattern.\u201d\n",
    "# strip - remove all the space in start , end of sentence\n",
    "# r' ' - raw string\n",
    "# Word tokenizer\n",
    "def word_tokenizer(sentence):\n",
    "    pattern = r'''(?x)                       #(?x) - tells python re to ignore space , comment in this string\n",
    "        (https?://[^\\s]+)                    # URLs  #:// takes the literal character //\n",
    "      | (\\w+@\\w+\\.\\w+)                       # Emails\n",
    "      | (\\d{1,2}[-/]\\d{1,2}[-/]\\d{2,4})      # Dates\n",
    "      | (\\d+\\.\\d+)                           # Decimals\n",
    "      | (\\d+)                                # Whole numbers\n",
    "      | ([\\u0900-\\u097F]+)                   # Devanagari (Marathi/Hindi) words\n",
    "      | ([a-zA-Z]+)                          # English words\n",
    "      | ([\u0964.,!?;:\"'\\-\u2014()])                   # Punctuation\n",
    "    '''\n",
    "    tokens = re.findall(pattern, sentence)\n",
    "    #When used with re.findall, each token will go into a separate group.\n",
    "    # Flatten the list of tuples into a single list\n",
    "    return [t for group in tokens for t in group if t]\n"
   ],
   "metadata": {
    "id": "QqMrcnDkR6iO"
   },
   "execution_count": 4,
   "outputs": []
  },
  {
   "cell_type": "code",
   "source": [
    "# this is not used (only for understanding)\n",
    "# Word tokenizer\n",
    "#def word_tokenizer(sentence):\n",
    "    pattern = r'''(?x)\n",
    "        (?:https?://[^\\s]+)                   # URLs\n",
    "        | (?:\\w+@\\w+\\.\\w+)                    # Emails\n",
    "        | (?:\\d{1,2}[-/]\\d{1,2}[-/]\\d{2,4})   # Dates\n",
    "        | (?:\\d+\\.\\d+)                        # Decimals\n",
    "        | (?:\\d+)                             # Whole numbers\n",
    "        | (?:\\w+|[^\\w\\s])                     # Words and punctuation\n",
    "    '''\n",
    "    return re.findall(pattern, sentence)\n",
    "# does not properly tokenize Marathi words (Devanagari script) unless you use Unicode-aware regex.\n",
    "#Python's \\w does not include Devanagari characters by default.\n",
    "# This is incorrect, as it's splitting valid Marathi words into letters and matras"
   ],
   "metadata": {
    "id": "I706E1_hU821"
   },
   "execution_count": null,
   "outputs": []
  },
  {
   "cell_type": "code",
   "source": [
    "sentence = sentence_tokenizer('\u092e\u091c\u0915\u0941\u0930\u093e\u091a\u093e \u092a\u0948\u0932\u0942  \u092e\u093e\u0917\u0940\u0932 \u0915\u0945\u092e\u0947\u0930\u093e ?, \u0921\u094d\u092f\u0941\u0905\u0932 \u091f\u094b\u0928!! \u090f\u0932. \u0908. \u0921\u0940. \u092b\u094d\u0932\u0945\u0936 \u0906\u0923\u093f \u092b\u093f\u0902\u0917\u0930\u092a\u094d\u0930\u093f\u0902\u091f \u0938\u094d\u0915\u0945\u0928\u0930\u091a\u0940 \u0938\u0947\u091f\u0905\u092a \u0935\u0948\u0936\u093f\u0937\u094d\u091f\u094d\u092f\u0947 \u0930\u0947\u0921\u092e\u0940 \u0928\u094b\u091f 3 \u0938\u093e\u0930\u0916\u0940\u091a \u0906\u0939\u0947\u0924|')\n",
    "print(sentence)\n",
    "#Split the text wherever there is a space following a sentence-ending punctuation mark (\u0964, !, ?, or |)"
   ],
   "metadata": {
    "colab": {
     "base_uri": "https://localhost:8080/"
    },
    "id": "-YeioX6sSfws",
    "outputId": "4515f3d4-135d-43fc-f630-16bf4fe809bb"
   },
   "execution_count": 5,
   "outputs": [
    {
     "output_type": "stream",
     "name": "stdout",
     "text": [
      "['\u092e\u091c\u0915\u0941\u0930\u093e\u091a\u093e \u092a\u0948\u0932\u0942  \u092e\u093e\u0917\u0940\u0932 \u0915\u0945\u092e\u0947\u0930\u093e ?, \u0921\u094d\u092f\u0941\u0905\u0932 \u091f\u094b\u0928!!', '\u090f\u0932. \u0908. \u0921\u0940. \u092b\u094d\u0932\u0945\u0936 \u0906\u0923\u093f \u092b\u093f\u0902\u0917\u0930\u092a\u094d\u0930\u093f\u0902\u091f \u0938\u094d\u0915\u0945\u0928\u0930\u091a\u0940 \u0938\u0947\u091f\u0905\u092a \u0935\u0948\u0936\u093f\u0937\u094d\u091f\u094d\u092f\u0947 \u0930\u0947\u0921\u092e\u0940 \u0928\u094b\u091f 3 \u0938\u093e\u0930\u0916\u0940\u091a \u0906\u0939\u0947\u0924|']\n"
     ]
    }
   ]
  },
  {
   "cell_type": "code",
   "source": [
    "#using the unicode- aware tokenizer\n",
    "words = word_tokenizer(sentence[-1])\n",
    "print(words)"
   ],
   "metadata": {
    "colab": {
     "base_uri": "https://localhost:8080/"
    },
    "id": "jaVXQSdBTe0_",
    "outputId": "60c9b892-37f8-4998-b52c-c35ffd78e779"
   },
   "execution_count": 6,
   "outputs": [
    {
     "output_type": "stream",
     "name": "stdout",
     "text": [
      "['\u090f\u0932', '.', '\u0908', '.', '\u0921\u0940', '.', '\u092b\u094d\u0932\u0945\u0936', '\u0906\u0923\u093f', '\u092b\u093f\u0902\u0917\u0930\u092a\u094d\u0930\u093f\u0902\u091f', '\u0938\u094d\u0915\u0945\u0928\u0930\u091a\u0940', '\u0938\u0947\u091f\u0905\u092a', '\u0935\u0948\u0936\u093f\u0937\u094d\u091f\u094d\u092f\u0947', '\u0930\u0947\u0921\u092e\u0940', '\u0928\u094b\u091f', '3', '\u0938\u093e\u0930\u0916\u0940\u091a', '\u0906\u0939\u0947\u0924']\n"
     ]
    }
   ]
  },
  {
   "cell_type": "code",
   "source": [
    "words = word_tokenizer(\"\u0930\u093e\u092e \u092a\u0941\u0923\u094d\u092f\u093e\u0932\u093e \u0917\u0947\u0932\u093e\u0964 He met Sita on 12-08-2025! Visit http://abc.com\")\n",
    "print(words)"
   ],
   "metadata": {
    "colab": {
     "base_uri": "https://localhost:8080/"
    },
    "id": "hDi323p39uBE",
    "outputId": "0b82c95b-51fb-4b48-a939-b05fcb67a48a"
   },
   "execution_count": 7,
   "outputs": [
    {
     "output_type": "stream",
     "name": "stdout",
     "text": [
      "['\u0930\u093e\u092e', '\u092a\u0941\u0923\u094d\u092f\u093e\u0932\u093e', '\u0917\u0947\u0932\u093e\u0964', 'He', 'met', 'Sita', 'on', '12-08-2025', '!', 'Visit', 'http://abc.com']\n"
     ]
    }
   ]
  },
  {
   "cell_type": "code",
   "source": [
    "max_examples = 100000\n",
    "tokenized_sentences = []\n",
    "total_words = 0\n",
    "total_chars = 0\n",
    "unique_tokens = set()\n",
    "# Safely iterate over streaming dataset with limit\n",
    "for example in islice(dataset, max_examples): # word, freq\n",
    "    text = example[\"text\"]\n",
    "    sentences = sentence_tokenizer(text)\n",
    "    for sentence in sentences:\n",
    "        tokens = word_tokenizer(sentence)\n",
    "        if tokens:\n",
    "            tokenized_sentence = \" \".join(tokens)\n",
    "            tokenized_sentences.append(tokenized_sentence)\n",
    "            total_words += len(tokens)\n",
    "            total_chars += sum(len(t) for t in tokens)\n",
    "            unique_tokens.update(tokens)\n",
    "\n",
    "# Step 4: Save to file\n",
    "df = pd.DataFrame({'sentence': tokenized_sentences})\n",
    "df.to_csv(\"marathi_tokenized_sentences.csv\", index=False, encoding=\"utf-8\")\n",
    "# Corpus statistics\n",
    "num_sentences = len(tokenized_sentences)\n",
    "avg_sentence_length = total_words / num_sentences\n",
    "avg_word_length = total_chars / total_words\n",
    "ttr = len(unique_tokens) / total_words\n",
    "#High TTR \u2192 greater vocabulary variety\n",
    "#Low TTR \u2192 more repetition, less variety\n",
    "token_count = len(unique_tokens)\n",
    "print(\"Corpus Statistics:\")\n",
    "print(f\"Total number of sentences: {num_sentences}\")\n",
    "print(f\"Total number of words: {total_words}\")\n",
    "print(f\"Unique_tokens:{token_count}\")\n",
    "print(f\"Total number of characters: {total_chars}\")\n",
    "print(f\"Average sentence length: {avg_sentence_length:.2f}\")\n",
    "print(f\"Average word length: {avg_word_length:.2f}\")\n",
    "print(f\"Type/Token Ratio (TTR): {ttr:.4f}\")"
   ],
   "metadata": {
    "colab": {
     "base_uri": "https://localhost:8080/"
    },
    "id": "95qxNWqUEMgA",
    "outputId": "7a1e89bd-271c-4b68-aea1-ceef0e3a70e5"
   },
   "execution_count": 8,
   "outputs": [
    {
     "output_type": "stream",
     "name": "stdout",
     "text": [
      "Corpus Statistics:\n",
      "Total number of sentences: 54791\n",
      "Total number of words: 2386442\n",
      "Unique_tokens:204170\n",
      "Total number of characters: 12213042\n",
      "Average sentence length: 43.56\n",
      "Average word length: 5.12\n",
      "Type/Token Ratio (TTR): 0.0856\n"
     ]
    }
   ]
  },
  {
   "cell_type": "code",
   "source": [
    "df.shape"
   ],
   "metadata": {
    "colab": {
     "base_uri": "https://localhost:8080/"
    },
    "id": "byscI0gXDORo",
    "outputId": "d19dc383-ddad-4ab1-ca65-399624a87bd0"
   },
   "execution_count": 9,
   "outputs": [
    {
     "output_type": "execute_result",
     "data": {
      "text/plain": [
       "(54791, 1)"
      ]
     },
     "metadata": {},
     "execution_count": 9
    }
   ]
  },
  {
   "cell_type": "code",
   "source": [
    "df1 = pd.read_csv(\"marathi_tokenized_sentences.csv\")\n",
    "df1.head()"
   ],
   "metadata": {
    "colab": {
     "base_uri": "https://localhost:8080/",
     "height": 206
    },
    "id": "I7HlppCDLtSU",
    "outputId": "3a852289-1d5c-4a0c-c336-06631b42e5a4"
   },
   "execution_count": 10,
   "outputs": [
    {
     "output_type": "execute_result",
     "data": {
      "text/plain": [
       "                                            sentence\n",
       "0  \u090a\u0924\u0940 \u0938\u0902\u0935\u0930\u094d\u0927\u0928 \u0924\u0902\u0924\u094d\u0930\u093e\u091a\u0947 \u0905\u0928\u0947\u0915 \u0909\u092a\u092f\u094b\u0917 \u0906\u0939\u0947\u0924 . \u092f\u093e \u0924\u0902\u0924\u094d...\n",
       "1  \u0936\u0939\u0930\u093e\u0924\u0940\u0932 \u092e\u093e\u0927\u094d\u092f\u092e\u093f\u0915 \u0935\u093f\u092d\u093e\u0917\u093e\u091a\u094d\u092f\u093e \u0936\u093e\u0933\u093e \u0969 \u091c\u093e\u0928\u0947\u0935\u093e\u0930\u0940\u092a\u0930\u094d...\n",
       "2  \u0930\u093e\u0923\u0947 \u092f\u093e\u0902\u0928\u0940 \u0936\u093f\u0935\u0938\u0947\u0928\u0947\u091a\u094d\u092f\u093e \u092e\u0902\u0924\u094d\u0930\u094d\u092f\u093e\u0935\u0930 \u0915\u0947\u0932\u0947\u0932\u094d\u092f\u093e \u0906\u0930\u094b...\n",
       "3  \u0924\u094d\u092f\u093e\u092e\u0941\u0933\u0947 \u0936\u093f\u0930\u0942\u0930 \u0924\u093e\u0932\u0941\u0915\u094d \u092f\u093e\u0924 \u0906\u0924\u093e\u092a\u0930\u094d\u092f\u0902\u0924 \u0906\u0922\u0933\u0932\u0947\u0932\u094d\u092f\u093e ...\n",
       "4  \u092a\u094d\u0930\u0924\u094d\u092f\u0947\u0915 \u0939\u0945\u093e\u0938\u094d\u092a\u0940\u091f\u0932\u0932\u093e \u0968\u096b \u0924\u0947 \u0969\u0966 \u091f\u0915\u094d\u0915\u0947 \u0972\u093e\u0915\u094d\u0938\u0940\u091c\u0928\u091a\u093e..."
      ],
      "text/html": [
       "\n",
       "  <div id=\"df-0a6a71ed-5eb3-408b-bf9a-58d1855a8522\" class=\"colab-df-container\">\n",
       "    <div>\n",
       "<style scoped>\n",
       "    .dataframe tbody tr th:only-of-type {\n",
       "        vertical-align: middle;\n",
       "    }\n",
       "\n",
       "    .dataframe tbody tr th {\n",
       "        vertical-align: top;\n",
       "    }\n",
       "\n",
       "    .dataframe thead th {\n",
       "        text-align: right;\n",
       "    }\n",
       "</style>\n",
       "<table border=\"1\" class=\"dataframe\">\n",
       "  <thead>\n",
       "    <tr style=\"text-align: right;\">\n",
       "      <th></th>\n",
       "      <th>sentence</th>\n",
       "    </tr>\n",
       "  </thead>\n",
       "  <tbody>\n",
       "    <tr>\n",
       "      <th>0</th>\n",
       "      <td>\u090a\u0924\u0940 \u0938\u0902\u0935\u0930\u094d\u0927\u0928 \u0924\u0902\u0924\u094d\u0930\u093e\u091a\u0947 \u0905\u0928\u0947\u0915 \u0909\u092a\u092f\u094b\u0917 \u0906\u0939\u0947\u0924 . \u092f\u093e \u0924\u0902\u0924\u094d...</td>\n",
       "    </tr>\n",
       "    <tr>\n",
       "      <th>1</th>\n",
       "      <td>\u0936\u0939\u0930\u093e\u0924\u0940\u0932 \u092e\u093e\u0927\u094d\u092f\u092e\u093f\u0915 \u0935\u093f\u092d\u093e\u0917\u093e\u091a\u094d\u092f\u093e \u0936\u093e\u0933\u093e \u0969 \u091c\u093e\u0928\u0947\u0935\u093e\u0930\u0940\u092a\u0930\u094d...</td>\n",
       "    </tr>\n",
       "    <tr>\n",
       "      <th>2</th>\n",
       "      <td>\u0930\u093e\u0923\u0947 \u092f\u093e\u0902\u0928\u0940 \u0936\u093f\u0935\u0938\u0947\u0928\u0947\u091a\u094d\u092f\u093e \u092e\u0902\u0924\u094d\u0930\u094d\u092f\u093e\u0935\u0930 \u0915\u0947\u0932\u0947\u0932\u094d\u092f\u093e \u0906\u0930\u094b...</td>\n",
       "    </tr>\n",
       "    <tr>\n",
       "      <th>3</th>\n",
       "      <td>\u0924\u094d\u092f\u093e\u092e\u0941\u0933\u0947 \u0936\u093f\u0930\u0942\u0930 \u0924\u093e\u0932\u0941\u0915\u094d \u092f\u093e\u0924 \u0906\u0924\u093e\u092a\u0930\u094d\u092f\u0902\u0924 \u0906\u0922\u0933\u0932\u0947\u0932\u094d\u092f\u093e ...</td>\n",
       "    </tr>\n",
       "    <tr>\n",
       "      <th>4</th>\n",
       "      <td>\u092a\u094d\u0930\u0924\u094d\u092f\u0947\u0915 \u0939\u0945\u093e\u0938\u094d\u092a\u0940\u091f\u0932\u0932\u093e \u0968\u096b \u0924\u0947 \u0969\u0966 \u091f\u0915\u094d\u0915\u0947 \u0972\u093e\u0915\u094d\u0938\u0940\u091c\u0928\u091a\u093e...</td>\n",
       "    </tr>\n",
       "  </tbody>\n",
       "</table>\n",
       "</div>\n",
       "    <div class=\"colab-df-buttons\">\n",
       "\n",
       "  <div class=\"colab-df-container\">\n",
       "    <button class=\"colab-df-convert\" onclick=\"convertToInteractive('df-0a6a71ed-5eb3-408b-bf9a-58d1855a8522')\"\n",
       "            title=\"Convert this dataframe to an interactive table.\"\n",
       "            style=\"display:none;\">\n",
       "\n",
       "  <svg xmlns=\"http://www.w3.org/2000/svg\" height=\"24px\" viewBox=\"0 -960 960 960\">\n",
       "    <path d=\"M120-120v-720h720v720H120Zm60-500h600v-160H180v160Zm220 220h160v-160H400v160Zm0 220h160v-160H400v160ZM180-400h160v-160H180v160Zm440 0h160v-160H620v160ZM180-180h160v-160H180v160Zm440 0h160v-160H620v160Z\"/>\n",
       "  </svg>\n",
       "    </button>\n",
       "\n",
       "  <style>\n",
       "    .colab-df-container {\n",
       "      display:flex;\n",
       "      gap: 12px;\n",
       "    }\n",
       "\n",
       "    .colab-df-convert {\n",
       "      background-color: #E8F0FE;\n",
       "      border: none;\n",
       "      border-radius: 50%;\n",
       "      cursor: pointer;\n",
       "      display: none;\n",
       "      fill: #1967D2;\n",
       "      height: 32px;\n",
       "      padding: 0 0 0 0;\n",
       "      width: 32px;\n",
       "    }\n",
       "\n",
       "    .colab-df-convert:hover {\n",
       "      background-color: #E2EBFA;\n",
       "      box-shadow: 0px 1px 2px rgba(60, 64, 67, 0.3), 0px 1px 3px 1px rgba(60, 64, 67, 0.15);\n",
       "      fill: #174EA6;\n",
       "    }\n",
       "\n",
       "    .colab-df-buttons div {\n",
       "      margin-bottom: 4px;\n",
       "    }\n",
       "\n",
       "    [theme=dark] .colab-df-convert {\n",
       "      background-color: #3B4455;\n",
       "      fill: #D2E3FC;\n",
       "    }\n",
       "\n",
       "    [theme=dark] .colab-df-convert:hover {\n",
       "      background-color: #434B5C;\n",
       "      box-shadow: 0px 1px 3px 1px rgba(0, 0, 0, 0.15);\n",
       "      filter: drop-shadow(0px 1px 2px rgba(0, 0, 0, 0.3));\n",
       "      fill: #FFFFFF;\n",
       "    }\n",
       "  </style>\n",
       "\n",
       "    <script>\n",
       "      const buttonEl =\n",
       "        document.querySelector('#df-0a6a71ed-5eb3-408b-bf9a-58d1855a8522 button.colab-df-convert');\n",
       "      buttonEl.style.display =\n",
       "        google.colab.kernel.accessAllowed ? 'block' : 'none';\n",
       "\n",
       "      async function convertToInteractive(key) {\n",
       "        const element = document.querySelector('#df-0a6a71ed-5eb3-408b-bf9a-58d1855a8522');\n",
       "        const dataTable =\n",
       "          await google.colab.kernel.invokeFunction('convertToInteractive',\n",
       "                                                    [key], {});\n",
       "        if (!dataTable) return;\n",
       "\n",
       "        const docLinkHtml = 'Like what you see? Visit the ' +\n",
       "          '<a target=\"_blank\" href=https://colab.research.google.com/notebooks/data_table.ipynb>data table notebook</a>'\n",
       "          + ' to learn more about interactive tables.';\n",
       "        element.innerHTML = '';\n",
       "        dataTable['output_type'] = 'display_data';\n",
       "        await google.colab.output.renderOutput(dataTable, element);\n",
       "        const docLink = document.createElement('div');\n",
       "        docLink.innerHTML = docLinkHtml;\n",
       "        element.appendChild(docLink);\n",
       "      }\n",
       "    </script>\n",
       "  </div>\n",
       "\n",
       "\n",
       "    <div id=\"df-41f40e66-08fc-481a-8739-8abbc96ef070\">\n",
       "      <button class=\"colab-df-quickchart\" onclick=\"quickchart('df-41f40e66-08fc-481a-8739-8abbc96ef070')\"\n",
       "                title=\"Suggest charts\"\n",
       "                style=\"display:none;\">\n",
       "\n",
       "<svg xmlns=\"http://www.w3.org/2000/svg\" height=\"24px\"viewBox=\"0 0 24 24\"\n",
       "     width=\"24px\">\n",
       "    <g>\n",
       "        <path d=\"M19 3H5c-1.1 0-2 .9-2 2v14c0 1.1.9 2 2 2h14c1.1 0 2-.9 2-2V5c0-1.1-.9-2-2-2zM9 17H7v-7h2v7zm4 0h-2V7h2v10zm4 0h-2v-4h2v4z\"/>\n",
       "    </g>\n",
       "</svg>\n",
       "      </button>\n",
       "\n",
       "<style>\n",
       "  .colab-df-quickchart {\n",
       "      --bg-color: #E8F0FE;\n",
       "      --fill-color: #1967D2;\n",
       "      --hover-bg-color: #E2EBFA;\n",
       "      --hover-fill-color: #174EA6;\n",
       "      --disabled-fill-color: #AAA;\n",
       "      --disabled-bg-color: #DDD;\n",
       "  }\n",
       "\n",
       "  [theme=dark] .colab-df-quickchart {\n",
       "      --bg-color: #3B4455;\n",
       "      --fill-color: #D2E3FC;\n",
       "      --hover-bg-color: #434B5C;\n",
       "      --hover-fill-color: #FFFFFF;\n",
       "      --disabled-bg-color: #3B4455;\n",
       "      --disabled-fill-color: #666;\n",
       "  }\n",
       "\n",
       "  .colab-df-quickchart {\n",
       "    background-color: var(--bg-color);\n",
       "    border: none;\n",
       "    border-radius: 50%;\n",
       "    cursor: pointer;\n",
       "    display: none;\n",
       "    fill: var(--fill-color);\n",
       "    height: 32px;\n",
       "    padding: 0;\n",
       "    width: 32px;\n",
       "  }\n",
       "\n",
       "  .colab-df-quickchart:hover {\n",
       "    background-color: var(--hover-bg-color);\n",
       "    box-shadow: 0 1px 2px rgba(60, 64, 67, 0.3), 0 1px 3px 1px rgba(60, 64, 67, 0.15);\n",
       "    fill: var(--button-hover-fill-color);\n",
       "  }\n",
       "\n",
       "  .colab-df-quickchart-complete:disabled,\n",
       "  .colab-df-quickchart-complete:disabled:hover {\n",
       "    background-color: var(--disabled-bg-color);\n",
       "    fill: var(--disabled-fill-color);\n",
       "    box-shadow: none;\n",
       "  }\n",
       "\n",
       "  .colab-df-spinner {\n",
       "    border: 2px solid var(--fill-color);\n",
       "    border-color: transparent;\n",
       "    border-bottom-color: var(--fill-color);\n",
       "    animation:\n",
       "      spin 1s steps(1) infinite;\n",
       "  }\n",
       "\n",
       "  @keyframes spin {\n",
       "    0% {\n",
       "      border-color: transparent;\n",
       "      border-bottom-color: var(--fill-color);\n",
       "      border-left-color: var(--fill-color);\n",
       "    }\n",
       "    20% {\n",
       "      border-color: transparent;\n",
       "      border-left-color: var(--fill-color);\n",
       "      border-top-color: var(--fill-color);\n",
       "    }\n",
       "    30% {\n",
       "      border-color: transparent;\n",
       "      border-left-color: var(--fill-color);\n",
       "      border-top-color: var(--fill-color);\n",
       "      border-right-color: var(--fill-color);\n",
       "    }\n",
       "    40% {\n",
       "      border-color: transparent;\n",
       "      border-right-color: var(--fill-color);\n",
       "      border-top-color: var(--fill-color);\n",
       "    }\n",
       "    60% {\n",
       "      border-color: transparent;\n",
       "      border-right-color: var(--fill-color);\n",
       "    }\n",
       "    80% {\n",
       "      border-color: transparent;\n",
       "      border-right-color: var(--fill-color);\n",
       "      border-bottom-color: var(--fill-color);\n",
       "    }\n",
       "    90% {\n",
       "      border-color: transparent;\n",
       "      border-bottom-color: var(--fill-color);\n",
       "    }\n",
       "  }\n",
       "</style>\n",
       "\n",
       "      <script>\n",
       "        async function quickchart(key) {\n",
       "          const quickchartButtonEl =\n",
       "            document.querySelector('#' + key + ' button');\n",
       "          quickchartButtonEl.disabled = true;  // To prevent multiple clicks.\n",
       "          quickchartButtonEl.classList.add('colab-df-spinner');\n",
       "          try {\n",
       "            const charts = await google.colab.kernel.invokeFunction(\n",
       "                'suggestCharts', [key], {});\n",
       "          } catch (error) {\n",
       "            console.error('Error during call to suggestCharts:', error);\n",
       "          }\n",
       "          quickchartButtonEl.classList.remove('colab-df-spinner');\n",
       "          quickchartButtonEl.classList.add('colab-df-quickchart-complete');\n",
       "        }\n",
       "        (() => {\n",
       "          let quickchartButtonEl =\n",
       "            document.querySelector('#df-41f40e66-08fc-481a-8739-8abbc96ef070 button');\n",
       "          quickchartButtonEl.style.display =\n",
       "            google.colab.kernel.accessAllowed ? 'block' : 'none';\n",
       "        })();\n",
       "      </script>\n",
       "    </div>\n",
       "\n",
       "    </div>\n",
       "  </div>\n"
      ],
      "application/vnd.google.colaboratory.intrinsic+json": {
       "type": "dataframe",
       "variable_name": "df1",
       "summary": "{\n  \"name\": \"df1\",\n  \"rows\": 54791,\n  \"fields\": [\n    {\n      \"column\": \"sentence\",\n      \"properties\": {\n        \"dtype\": \"string\",\n        \"num_unique_values\": 54190,\n        \"samples\": [\n          \"\\u0935\\u0930 \\u0915\\u0941\\u0923\\u093f\\u0924\\u0930\\u0940 \\u092e\\u094d\\u0939\\u0923\\u093e\\u0932\\u0902 \\u0924\\u0947\\u091a \\u0916\\u0930\\u092f . . . \\u0939\\u0947 \\u092a\\u094d\\u0930\\u0915\\u093e\\u0930 \\u092e\\u094d\\u0939\\u0923\\u091c\\u0947 \\u092d\\u093e\\u0930\\u0924 \\u092a\\u093e\\u0915\\u093f\\u0938\\u094d\\u0924\\u093e\\u0928 \\u0938\\u0902\\u092c\\u0902\\u0927 \\u0938\\u0941\\u0927\\u0930\\u0935\\u0923\\u094d\\u092f\\u093e\\u091a\\u094d\\u092f\\u093e \\u0928\\u093e\\u0935\\u093e\\u0916\\u093e\\u0932\\u0940 \\u092a\\u093e\\u0915\\u093f\\u0938\\u094d\\u0924\\u093e\\u0928\\u093f \\u092e\\u093e\\u0930\\u094d\\u0915\\u0947\\u091f \\u092e\\u0927\\u0947 \\u0906\\u092a\\u0932 \\u091c\\u092e \\u092c\\u0938\\u0935\\u0923\\u094d\\u092f\\u093e\\u091a\\u093e \\u0909\\u0926\\u094d\\u092f\\u094b\\u0917 \\u0906\\u0939\\u0947 \\u0939\\u094d\\u092f\\u093e channel \\u0935\\u093e\\u0932\\u094d\\u092f\\u093e\\u0902\\u091a\\u093e . . . \\u092c\\u093e\\u0915\\u0940 \\u0915\\u093e\\u0939\\u0940 \\u0928\\u093e\\u0939\\u0940 ! ! !\",\n          \"\\u0930\\u0924\\u094d\\u0928\\u093e\\u0917\\u093f\\u0930\\u0940 : \\u0938\\u093e\\u0935\\u0930\\u094d\\u0921\\u0947 \\u092f\\u0947\\u0925\\u0947 \\u092a\\u0915\\u0921\\u0932\\u093e \\u091c\\u0928\\u093e\\u0935\\u0930\\u0947 \\u0928\\u0947\\u0923\\u093e\\u0930\\u093e \\u091f\\u0947\\u092e\\u094d\\u092a\\u094b , \\u090f\\u0915\\u093e\\u0932\\u093e \\u0905\\u091f\\u0915\",\n          \"\\u0935\\u0949\\u0936\\u093f\\u0902\\u0917\\u094d\\u091f\\u0928 : \\u0905\\u092e\\u0947\\u0930\\u093f\\u0915\\u0947\\u0924\\u0939\\u0940 \\u0926\\u093f\\u0935\\u093e\\u0933\\u0940\\u091a\\u093e \\u0909\\u0924\\u094d\\u0938\\u093e\\u0939 \\u092a\\u0939\\u093e\\u092f\\u0932\\u093e \\u092e\\u093f\\u0933\\u093e\\u0932\\u093e . \\u0930\\u093e\\u0937\\u094d\\u091f\\u094d\\u0930\\u093e\\u0927\\u094d\\u092f\\u0915\\u094d\\u0937 \\u0921\\u094b\\u0928\\u093e\\u0932\\u094d\\u0921 \\u091f\\u094d\\u0930\\u092e\\u094d\\u092a \\u0926\\u0947\\u0916\\u0940\\u0932 \\u0926\\u093f\\u0935\\u093e\\u0933\\u0940\\u091a\\u094d\\u092f\\u093e \\u0909\\u0924\\u094d\\u0938\\u0935\\u093e\\u0924 \\u0938\\u0939\\u092d\\u093e\\u0917\\u0940 \\u091d\\u093e\\u0932\\u094d\\u092f\\u093e\\u091a\\u0902 \\u092a\\u0939\\u093e\\u092f\\u0932\\u093e \\u092e\\u093f\\u0933\\u093e\\u0932\\u0947 . \\u091f\\u094d\\u0930\\u092e\\u094d\\u092a \\u092f\\u093e\\u0902\\u0928\\u0940 \\u091f\\u094d\\u0935\\u093f\\u091f\\u0930\\u0935\\u0930 \\u0939\\u093e \\u0935\\u094d\\u0939\\u093f\\u0921\\u093f\\u0913 \\u0936\\u0947\\u0905\\u0930 \\u0915\\u0947\\u0932\\u093e\\u092f . \\u0935\\u094d\\u0939\\u093f\\u0921\\u093f\\u0913\\u0924 \\u0921\\u094b\\u0928\\u093e\\u0932\\u094d\\u0921 \\u091f\\u094d\\u0930\\u092e\\u094d\\u092a \\u092d\\u093e\\u0930\\u0924\\u0940\\u092f \\u0924\\u0938\\u0902\\u091a \\u0905\\u092e\\u0947\\u0930\\u093f\\u0915\\u0947\\u091a\\u094d\\u092f\\u093e \\u0928\\u093e\\u0917\\u0930\\u093f\\u0915\\u093e\\u0902\\u0938\\u0939 \\u0915\\u0901\\u0921\\u0932 \\u092a\\u0947\\u091f\\u0935\\u0924\\u093e\\u0928\\u093e \\u0926\\u093f\\u0938\\u0924 \\u0939\\u094b\\u0924\\u0947 .\"\n        ],\n        \"semantic_type\": \"\",\n        \"description\": \"\"\n      }\n    }\n  ]\n}"
      }
     },
     "metadata": {},
     "execution_count": 10
    }
   ]
  },
  {
   "cell_type": "markdown",
   "source": [
    " \u2705 For CSV files opened in Excel:\n",
    "When opening in Excel:\n",
    "\n",
    "Don't double-click to open!\n",
    "\n",
    "Instead:\n",
    "\n",
    "Open Excel.\n",
    "\n",
    "Go to File > Open > Browse.\n",
    "\n",
    "In the Open dialog, select \"All Files\" and choose your CSV.\n",
    "\n",
    "You'll get a Text Import Wizard:\n",
    "\n",
    "Select \"65001: Unicode (UTF-8)\" as the encoding.\n",
    "\n",
    "Use comma (,) as delimiter.\n",
    "\n",
    "Finish.\n",
    "\n",
    "This will render Marathi text correctly."
   ],
   "metadata": {
    "id": "ngU52T1AhIcr"
   }
  },
  {
   "cell_type": "code",
   "source": [
    "#!pip install pyarrow\n",
    "# Assuming df is your DataFrame with tokenized sentences\n",
    "df.to_parquet(\"marathi_tokenized_sentences.parquet\", engine='pyarrow', compression='snappy', index=False)\n"
   ],
   "metadata": {
    "id": "NAHpVz8ChY2d"
   },
   "execution_count": 11,
   "outputs": []
  },
  {
   "cell_type": "code",
   "source": [
    "word_lengths = [len(word) for sentence in tokenized_sentences for word in sentence.split()]\n",
    "sentence_lengths = [len(sentence.split()) for sentence in tokenized_sentences]\n",
    "all_words = [word for sentence in tokenized_sentences for word in sentence.split()]\n",
    "word_freq = Counter(all_words).most_common(20)\n",
    "# Plot 1: Word Length Distribution\n",
    "plt.figure(figsize=(8, 5))\n",
    "sns.histplot(word_lengths, bins=range(1, max(word_lengths) + 1), kde=False)\n",
    "plt.title(\"Distribution of Word Lengths\")\n",
    "plt.xlabel(\"Word Length\")\n",
    "plt.ylabel(\"Frequency\")\n",
    "plt.tight_layout()\n",
    "plt.show()"
   ],
   "metadata": {
    "colab": {
     "base_uri": "https://localhost:8080/",
     "height": 507
    },
    "id": "wakaVOIQZ0Pp",
    "outputId": "4f90359b-d077-43f2-f397-ab77ddf24465"
   },
   "execution_count": 12,
   "outputs": [
    {
     "output_type": "display_data",
     "data": {
      "text/plain": [
       "<Figure size 800x500 with 1 Axes>"
      ],
      "image/png": "[encoded data removed]"
     },
     "metadata": {}
    }
   ]
  },
  {
   "cell_type": "code",
   "source": [
    "# Plot 2: Sentence Length Distribution\n",
    "plt.figure(figsize=(8, 5))\n",
    "sns.histplot(sentence_lengths, bins=range(1, max(sentence_lengths) + 1), kde=False)\n",
    "plt.title(\"Distribution of Sentence Lengths\")\n",
    "plt.xlabel(\"Number of Words per Sentence\")\n",
    "plt.ylabel(\"Frequency\")\n",
    "plt.tight_layout()\n",
    "plt.show()"
   ],
   "metadata": {
    "colab": {
     "base_uri": "https://localhost:8080/",
     "height": 507
    },
    "id": "-LoKdMaxbEev",
    "outputId": "f2b6be60-1a51-4b25-84b1-8e4f8f9de2df"
   },
   "execution_count": 13,
   "outputs": [
    {
     "output_type": "display_data",
     "data": {
      "text/plain": [
       "<Figure size 800x500 with 1 Axes>"
      ],
      "image/png": "[encoded data removed]"
     },
     "metadata": {}
    }
   ]
  },
  {
   "cell_type": "code",
   "source": [],
   "metadata": {
    "id": "iAKIvZ9ubPWL"
   },
   "execution_count": null,
   "outputs": []
  }
 ]
}