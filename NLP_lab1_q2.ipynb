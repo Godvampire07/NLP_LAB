{
  "nbformat": 4,
  "nbformat_minor": 0,
  "metadata": {
    "colab": {
      "provenance": [],
      "authorship_tag": "ABX9TyPOeylA97dZmTEM5JXzmOQb",
      "include_colab_link": true
    },
    "kernelspec": {
      "name": "python3",
      "display_name": "Python 3"
    },
    "language_info": {
      "name": "python"
    },
    "widgets": {
      "application/vnd.jupyter.widget-state+json": {
        "ebbe4b9629424ac6b0db8ae26a9606d4": {
          "model_module": "@jupyter-widgets/controls",
          "model_name": "HBoxModel",
          "model_module_version": "1.5.0",
          "state": {
            "_dom_classes": [],
            "_model_module": "@jupyter-widgets/controls",
            "_model_module_version": "1.5.0",
            "_model_name": "HBoxModel",
            "_view_count": null,
            "_view_module": "@jupyter-widgets/controls",
            "_view_module_version": "1.5.0",
            "_view_name": "HBoxView",
            "box_style": "",
            "children": [
              "IPY_MODEL_5bddc04e48454d6abe8a4edf7c743cd3",
              "IPY_MODEL_f16dd3af247a47eabcc709ad7d55e642",
              "IPY_MODEL_8f2d0dbe668c4448841f6ccaca8f4109"
            ],
            "layout": "IPY_MODEL_28a734473938499bb535e827479a249e"
          }
        },
        "5bddc04e48454d6abe8a4edf7c743cd3": {
          "model_module": "@jupyter-widgets/controls",
          "model_name": "HTMLModel",
          "model_module_version": "1.5.0",
          "state": {
            "_dom_classes": [],
            "_model_module": "@jupyter-widgets/controls",
            "_model_module_version": "1.5.0",
            "_model_name": "HTMLModel",
            "_view_count": null,
            "_view_module": "@jupyter-widgets/controls",
            "_view_module_version": "1.5.0",
            "_view_name": "HTMLView",
            "description": "",
            "description_tooltip": null,
            "layout": "IPY_MODEL_d93f46d3d8e94b77bffd68c0e8385080",
            "placeholder": "​",
            "style": "IPY_MODEL_9758f36cb5424b5e822fed4cbd5135ce",
            "value": "README.md: 100%"
          }
        },
        "f16dd3af247a47eabcc709ad7d55e642": {
          "model_module": "@jupyter-widgets/controls",
          "model_name": "FloatProgressModel",
          "model_module_version": "1.5.0",
          "state": {
            "_dom_classes": [],
            "_model_module": "@jupyter-widgets/controls",
            "_model_module_version": "1.5.0",
            "_model_name": "FloatProgressModel",
            "_view_count": null,
            "_view_module": "@jupyter-widgets/controls",
            "_view_module_version": "1.5.0",
            "_view_name": "ProgressView",
            "bar_style": "success",
            "description": "",
            "description_tooltip": null,
            "layout": "IPY_MODEL_8849725bf0a14488ad87a88a0b789bdc",
            "max": 37423,
            "min": 0,
            "orientation": "horizontal",
            "style": "IPY_MODEL_eee020898b6844ddba5f7b71fb75914d",
            "value": 37423
          }
        },
        "8f2d0dbe668c4448841f6ccaca8f4109": {
          "model_module": "@jupyter-widgets/controls",
          "model_name": "HTMLModel",
          "model_module_version": "1.5.0",
          "state": {
            "_dom_classes": [],
            "_model_module": "@jupyter-widgets/controls",
            "_model_module_version": "1.5.0",
            "_model_name": "HTMLModel",
            "_view_count": null,
            "_view_module": "@jupyter-widgets/controls",
            "_view_module_version": "1.5.0",
            "_view_name": "HTMLView",
            "description": "",
            "description_tooltip": null,
            "layout": "IPY_MODEL_ef51adc0bf00447faf9cd6d465fe7d0f",
            "placeholder": "​",
            "style": "IPY_MODEL_fdd5e46109fd47e3aa93a53b4317072e",
            "value": " 37.4k/37.4k [00:00&lt;00:00, 841kB/s]"
          }
        },
        "28a734473938499bb535e827479a249e": {
          "model_module": "@jupyter-widgets/base",
          "model_name": "LayoutModel",
          "model_module_version": "1.2.0",
          "state": {
            "_model_module": "@jupyter-widgets/base",
            "_model_module_version": "1.2.0",
            "_model_name": "LayoutModel",
            "_view_count": null,
            "_view_module": "@jupyter-widgets/base",
            "_view_module_version": "1.2.0",
            "_view_name": "LayoutView",
            "align_content": null,
            "align_items": null,
            "align_self": null,
            "border": null,
            "bottom": null,
            "display": null,
            "flex": null,
            "flex_flow": null,
            "grid_area": null,
            "grid_auto_columns": null,
            "grid_auto_flow": null,
            "grid_auto_rows": null,
            "grid_column": null,
            "grid_gap": null,
            "grid_row": null,
            "grid_template_areas": null,
            "grid_template_columns": null,
            "grid_template_rows": null,
            "height": null,
            "justify_content": null,
            "justify_items": null,
            "left": null,
            "margin": null,
            "max_height": null,
            "max_width": null,
            "min_height": null,
            "min_width": null,
            "object_fit": null,
            "object_position": null,
            "order": null,
            "overflow": null,
            "overflow_x": null,
            "overflow_y": null,
            "padding": null,
            "right": null,
            "top": null,
            "visibility": null,
            "width": null
          }
        },
        "d93f46d3d8e94b77bffd68c0e8385080": {
          "model_module": "@jupyter-widgets/base",
          "model_name": "LayoutModel",
          "model_module_version": "1.2.0",
          "state": {
            "_model_module": "@jupyter-widgets/base",
            "_model_module_version": "1.2.0",
            "_model_name": "LayoutModel",
            "_view_count": null,
            "_view_module": "@jupyter-widgets/base",
            "_view_module_version": "1.2.0",
            "_view_name": "LayoutView",
            "align_content": null,
            "align_items": null,
            "align_self": null,
            "border": null,
            "bottom": null,
            "display": null,
            "flex": null,
            "flex_flow": null,
            "grid_area": null,
            "grid_auto_columns": null,
            "grid_auto_flow": null,
            "grid_auto_rows": null,
            "grid_column": null,
            "grid_gap": null,
            "grid_row": null,
            "grid_template_areas": null,
            "grid_template_columns": null,
            "grid_template_rows": null,
            "height": null,
            "justify_content": null,
            "justify_items": null,
            "left": null,
            "margin": null,
            "max_height": null,
            "max_width": null,
            "min_height": null,
            "min_width": null,
            "object_fit": null,
            "object_position": null,
            "order": null,
            "overflow": null,
            "overflow_x": null,
            "overflow_y": null,
            "padding": null,
            "right": null,
            "top": null,
            "visibility": null,
            "width": null
          }
        },
        "9758f36cb5424b5e822fed4cbd5135ce": {
          "model_module": "@jupyter-widgets/controls",
          "model_name": "DescriptionStyleModel",
          "model_module_version": "1.5.0",
          "state": {
            "_model_module": "@jupyter-widgets/controls",
            "_model_module_version": "1.5.0",
            "_model_name": "DescriptionStyleModel",
            "_view_count": null,
            "_view_module": "@jupyter-widgets/base",
            "_view_module_version": "1.2.0",
            "_view_name": "StyleView",
            "description_width": ""
          }
        },
        "8849725bf0a14488ad87a88a0b789bdc": {
          "model_module": "@jupyter-widgets/base",
          "model_name": "LayoutModel",
          "model_module_version": "1.2.0",
          "state": {
            "_model_module": "@jupyter-widgets/base",
            "_model_module_version": "1.2.0",
            "_model_name": "LayoutModel",
            "_view_count": null,
            "_view_module": "@jupyter-widgets/base",
            "_view_module_version": "1.2.0",
            "_view_name": "LayoutView",
            "align_content": null,
            "align_items": null,
            "align_self": null,
            "border": null,
            "bottom": null,
            "display": null,
            "flex": null,
            "flex_flow": null,
            "grid_area": null,
            "grid_auto_columns": null,
            "grid_auto_flow": null,
            "grid_auto_rows": null,
            "grid_column": null,
            "grid_gap": null,
            "grid_row": null,
            "grid_template_areas": null,
            "grid_template_columns": null,
            "grid_template_rows": null,
            "height": null,
            "justify_content": null,
            "justify_items": null,
            "left": null,
            "margin": null,
            "max_height": null,
            "max_width": null,
            "min_height": null,
            "min_width": null,
            "object_fit": null,
            "object_position": null,
            "order": null,
            "overflow": null,
            "overflow_x": null,
            "overflow_y": null,
            "padding": null,
            "right": null,
            "top": null,
            "visibility": null,
            "width": null
          }
        },
        "eee020898b6844ddba5f7b71fb75914d": {
          "model_module": "@jupyter-widgets/controls",
          "model_name": "ProgressStyleModel",
          "model_module_version": "1.5.0",
          "state": {
            "_model_module": "@jupyter-widgets/controls",
            "_model_module_version": "1.5.0",
            "_model_name": "ProgressStyleModel",
            "_view_count": null,
            "_view_module": "@jupyter-widgets/base",
            "_view_module_version": "1.2.0",
            "_view_name": "StyleView",
            "bar_color": null,
            "description_width": ""
          }
        },
        "ef51adc0bf00447faf9cd6d465fe7d0f": {
          "model_module": "@jupyter-widgets/base",
          "model_name": "LayoutModel",
          "model_module_version": "1.2.0",
          "state": {
            "_model_module": "@jupyter-widgets/base",
            "_model_module_version": "1.2.0",
            "_model_name": "LayoutModel",
            "_view_count": null,
            "_view_module": "@jupyter-widgets/base",
            "_view_module_version": "1.2.0",
            "_view_name": "LayoutView",
            "align_content": null,
            "align_items": null,
            "align_self": null,
            "border": null,
            "bottom": null,
            "display": null,
            "flex": null,
            "flex_flow": null,
            "grid_area": null,
            "grid_auto_columns": null,
            "grid_auto_flow": null,
            "grid_auto_rows": null,
            "grid_column": null,
            "grid_gap": null,
            "grid_row": null,
            "grid_template_areas": null,
            "grid_template_columns": null,
            "grid_template_rows": null,
            "height": null,
            "justify_content": null,
            "justify_items": null,
            "left": null,
            "margin": null,
            "max_height": null,
            "max_width": null,
            "min_height": null,
            "min_width": null,
            "object_fit": null,
            "object_position": null,
            "order": null,
            "overflow": null,
            "overflow_x": null,
            "overflow_y": null,
            "padding": null,
            "right": null,
            "top": null,
            "visibility": null,
            "width": null
          }
        },
        "fdd5e46109fd47e3aa93a53b4317072e": {
          "model_module": "@jupyter-widgets/controls",
          "model_name": "DescriptionStyleModel",
          "model_module_version": "1.5.0",
          "state": {
            "_model_module": "@jupyter-widgets/controls",
            "_model_module_version": "1.5.0",
            "_model_name": "DescriptionStyleModel",
            "_view_count": null,
            "_view_module": "@jupyter-widgets/base",
            "_view_module_version": "1.2.0",
            "_view_name": "StyleView",
            "description_width": ""
          }
        }
      }
    }
  },
  "cells": [
    {
      "cell_type": "markdown",
      "metadata": {
        "id": "view-in-github",
        "colab_type": "text"
      },
      "source": [
        "<a href=\"https://colab.research.google.com/github/Godvampire07/NLP_LAB/blob/main/NLP_lab1_q2.ipynb\" target=\"_parent\"><img src=\"https://colab.research.google.com/assets/colab-badge.svg\" alt=\"Open In Colab\"/></a>"
      ]
    },
    {
      "cell_type": "code",
      "source": [
        "import pandas as pd\n",
        "import numpy as np\n",
        "import re\n",
        "import os\n",
        "import matplotlib.pyplot as plt\n",
        "import seaborn as sns\n",
        "from collections import Counter"
      ],
      "metadata": {
        "id": "4pPywaweCndi"
      },
      "execution_count": null,
      "outputs": []
    },
    {
      "cell_type": "code",
      "execution_count": 1,
      "metadata": {
        "id": "qoROEq9nZTN4",
        "colab": {
          "base_uri": "https://localhost:8080/",
          "height": 458,
          "referenced_widgets": [
            "ebbe4b9629424ac6b0db8ae26a9606d4",
            "5bddc04e48454d6abe8a4edf7c743cd3",
            "f16dd3af247a47eabcc709ad7d55e642",
            "8f2d0dbe668c4448841f6ccaca8f4109",
            "28a734473938499bb535e827479a249e",
            "d93f46d3d8e94b77bffd68c0e8385080",
            "9758f36cb5424b5e822fed4cbd5135ce",
            "8849725bf0a14488ad87a88a0b789bdc",
            "eee020898b6844ddba5f7b71fb75914d",
            "ef51adc0bf00447faf9cd6d465fe7d0f",
            "fdd5e46109fd47e3aa93a53b4317072e"
          ]
        },
        "outputId": "d2cff9b7-3baa-4cb9-8e01-210ab46a5041"
      },
      "outputs": [
        {
          "output_type": "stream",
          "name": "stderr",
          "text": [
            "/usr/local/lib/python3.11/dist-packages/huggingface_hub/utils/_auth.py:94: UserWarning: \n",
            "The secret `HF_TOKEN` does not exist in your Colab secrets.\n",
            "To authenticate with the Hugging Face Hub, create a token in your settings tab (https://huggingface.co/settings/tokens), set it as secret in your Google Colab and restart your session.\n",
            "You will be able to reuse this secret in all of your notebooks.\n",
            "Please note that authentication is recommended but still optional to access public models or datasets.\n",
            "  warnings.warn(\n"
          ]
        },
        {
          "output_type": "display_data",
          "data": {
            "text/plain": [
              "README.md:   0%|          | 0.00/37.4k [00:00<?, ?B/s]"
            ],
            "application/vnd.jupyter.widget-view+json": {
              "version_major": 2,
              "version_minor": 0,
              "model_id": "ebbe4b9629424ac6b0db8ae26a9606d4"
            }
          },
          "metadata": {}
        },
        {
          "output_type": "error",
          "ename": "DatasetNotFoundError",
          "evalue": "Dataset 'oscar-corpus/OSCAR-2301' is a gated dataset on the Hub. You must be authenticated to access it.",
          "traceback": [
            "\u001b[0;31m---------------------------------------------------------------------------\u001b[0m",
            "\u001b[0;31mDatasetNotFoundError\u001b[0m                      Traceback (most recent call last)",
            "\u001b[0;32m/tmp/ipython-input-1912066912.py\u001b[0m in \u001b[0;36m<cell line: 0>\u001b[0;34m()\u001b[0m\n\u001b[1;32m      1\u001b[0m \u001b[0;32mfrom\u001b[0m \u001b[0mdatasets\u001b[0m \u001b[0;32mimport\u001b[0m \u001b[0mload_dataset\u001b[0m\u001b[0;34m\u001b[0m\u001b[0;34m\u001b[0m\u001b[0m\n\u001b[1;32m      2\u001b[0m \u001b[0;31m# Step 1: Load OSCAR-2301 Dataset for a specific language (e.g. 'mr' for Marathi, 'en' for English)\u001b[0m\u001b[0;34m\u001b[0m\u001b[0;34m\u001b[0m\u001b[0m\n\u001b[0;32m----> 3\u001b[0;31m \u001b[0mdataset\u001b[0m \u001b[0;34m=\u001b[0m \u001b[0mload_dataset\u001b[0m\u001b[0;34m(\u001b[0m\u001b[0;34m\"oscar-corpus/OSCAR-2301\"\u001b[0m\u001b[0;34m,\u001b[0m \u001b[0;34m\"unshuffled_deduplicated_en\"\u001b[0m\u001b[0;34m,\u001b[0m \u001b[0msplit\u001b[0m\u001b[0;34m=\u001b[0m\u001b[0;34m\"train\"\u001b[0m\u001b[0;34m,\u001b[0m \u001b[0mstreaming\u001b[0m\u001b[0;34m=\u001b[0m\u001b[0;32mTrue\u001b[0m\u001b[0;34m)\u001b[0m\u001b[0;34m\u001b[0m\u001b[0;34m\u001b[0m\u001b[0m\n\u001b[0m",
            "\u001b[0;32m/usr/local/lib/python3.11/dist-packages/datasets/load.py\u001b[0m in \u001b[0;36mload_dataset\u001b[0;34m(path, name, data_dir, data_files, split, cache_dir, features, download_config, download_mode, verification_mode, keep_in_memory, save_infos, revision, token, streaming, num_proc, storage_options, **config_kwargs)\u001b[0m\n\u001b[1;32m   1390\u001b[0m \u001b[0;34m\u001b[0m\u001b[0m\n\u001b[1;32m   1391\u001b[0m     \u001b[0;31m# Create a dataset builder\u001b[0m\u001b[0;34m\u001b[0m\u001b[0;34m\u001b[0m\u001b[0m\n\u001b[0;32m-> 1392\u001b[0;31m     builder_instance = load_dataset_builder(\n\u001b[0m\u001b[1;32m   1393\u001b[0m         \u001b[0mpath\u001b[0m\u001b[0;34m=\u001b[0m\u001b[0mpath\u001b[0m\u001b[0;34m,\u001b[0m\u001b[0;34m\u001b[0m\u001b[0;34m\u001b[0m\u001b[0m\n\u001b[1;32m   1394\u001b[0m         \u001b[0mname\u001b[0m\u001b[0;34m=\u001b[0m\u001b[0mname\u001b[0m\u001b[0;34m,\u001b[0m\u001b[0;34m\u001b[0m\u001b[0;34m\u001b[0m\u001b[0m\n",
            "\u001b[0;32m/usr/local/lib/python3.11/dist-packages/datasets/load.py\u001b[0m in \u001b[0;36mload_dataset_builder\u001b[0;34m(path, name, data_dir, data_files, cache_dir, features, download_config, download_mode, revision, token, storage_options, **config_kwargs)\u001b[0m\n\u001b[1;32m   1130\u001b[0m     \u001b[0;32mif\u001b[0m \u001b[0mfeatures\u001b[0m \u001b[0;32mis\u001b[0m \u001b[0;32mnot\u001b[0m \u001b[0;32mNone\u001b[0m\u001b[0;34m:\u001b[0m\u001b[0;34m\u001b[0m\u001b[0;34m\u001b[0m\u001b[0m\n\u001b[1;32m   1131\u001b[0m         \u001b[0mfeatures\u001b[0m \u001b[0;34m=\u001b[0m \u001b[0m_fix_for_backward_compatible_features\u001b[0m\u001b[0;34m(\u001b[0m\u001b[0mfeatures\u001b[0m\u001b[0;34m)\u001b[0m\u001b[0;34m\u001b[0m\u001b[0;34m\u001b[0m\u001b[0m\n\u001b[0;32m-> 1132\u001b[0;31m     dataset_module = dataset_module_factory(\n\u001b[0m\u001b[1;32m   1133\u001b[0m         \u001b[0mpath\u001b[0m\u001b[0;34m,\u001b[0m\u001b[0;34m\u001b[0m\u001b[0;34m\u001b[0m\u001b[0m\n\u001b[1;32m   1134\u001b[0m         \u001b[0mrevision\u001b[0m\u001b[0;34m=\u001b[0m\u001b[0mrevision\u001b[0m\u001b[0;34m,\u001b[0m\u001b[0;34m\u001b[0m\u001b[0;34m\u001b[0m\u001b[0m\n",
            "\u001b[0;32m/usr/local/lib/python3.11/dist-packages/datasets/load.py\u001b[0m in \u001b[0;36mdataset_module_factory\u001b[0;34m(path, revision, download_config, download_mode, data_dir, data_files, cache_dir, **download_kwargs)\u001b[0m\n\u001b[1;32m   1023\u001b[0m                     \u001b[0;32mraise\u001b[0m \u001b[0mConnectionError\u001b[0m\u001b[0;34m(\u001b[0m\u001b[0;34mf\"Couldn't reach the Hugging Face Hub for dataset '{path}': {e1}\"\u001b[0m\u001b[0;34m)\u001b[0m \u001b[0;32mfrom\u001b[0m \u001b[0;32mNone\u001b[0m\u001b[0;34m\u001b[0m\u001b[0;34m\u001b[0m\u001b[0m\n\u001b[1;32m   1024\u001b[0m                 \u001b[0;32mif\u001b[0m \u001b[0misinstance\u001b[0m\u001b[0;34m(\u001b[0m\u001b[0me1\u001b[0m\u001b[0;34m,\u001b[0m \u001b[0;34m(\u001b[0m\u001b[0mDataFilesNotFoundError\u001b[0m\u001b[0;34m,\u001b[0m \u001b[0mDatasetNotFoundError\u001b[0m\u001b[0;34m,\u001b[0m \u001b[0mEmptyDatasetError\u001b[0m\u001b[0;34m)\u001b[0m\u001b[0;34m)\u001b[0m\u001b[0;34m:\u001b[0m\u001b[0;34m\u001b[0m\u001b[0;34m\u001b[0m\u001b[0m\n\u001b[0;32m-> 1025\u001b[0;31m                     \u001b[0;32mraise\u001b[0m \u001b[0me1\u001b[0m \u001b[0;32mfrom\u001b[0m \u001b[0;32mNone\u001b[0m\u001b[0;34m\u001b[0m\u001b[0;34m\u001b[0m\u001b[0m\n\u001b[0m\u001b[1;32m   1026\u001b[0m                 \u001b[0;32mif\u001b[0m \u001b[0misinstance\u001b[0m\u001b[0;34m(\u001b[0m\u001b[0me1\u001b[0m\u001b[0;34m,\u001b[0m \u001b[0mFileNotFoundError\u001b[0m\u001b[0;34m)\u001b[0m\u001b[0;34m:\u001b[0m\u001b[0;34m\u001b[0m\u001b[0;34m\u001b[0m\u001b[0m\n\u001b[1;32m   1027\u001b[0m                     raise FileNotFoundError(\n",
            "\u001b[0;32m/usr/local/lib/python3.11/dist-packages/datasets/load.py\u001b[0m in \u001b[0;36mdataset_module_factory\u001b[0;34m(path, revision, download_config, download_mode, data_dir, data_files, cache_dir, **download_kwargs)\u001b[0m\n\u001b[1;32m   1009\u001b[0m                 \u001b[0;32melif\u001b[0m \u001b[0me\u001b[0m\u001b[0;34m.\u001b[0m\u001b[0mresponse\u001b[0m\u001b[0;34m.\u001b[0m\u001b[0mstatus_code\u001b[0m \u001b[0;34m==\u001b[0m \u001b[0;36m403\u001b[0m\u001b[0;34m:\u001b[0m\u001b[0;34m\u001b[0m\u001b[0;34m\u001b[0m\u001b[0m\n\u001b[1;32m   1010\u001b[0m                     \u001b[0mmessage\u001b[0m \u001b[0;34m+=\u001b[0m \u001b[0;34mf\" Visit the dataset page at https://huggingface.co/datasets/{path} to ask for access.\"\u001b[0m\u001b[0;34m\u001b[0m\u001b[0;34m\u001b[0m\u001b[0m\n\u001b[0;32m-> 1011\u001b[0;31m                 \u001b[0;32mraise\u001b[0m \u001b[0mDatasetNotFoundError\u001b[0m\u001b[0;34m(\u001b[0m\u001b[0mmessage\u001b[0m\u001b[0;34m)\u001b[0m \u001b[0;32mfrom\u001b[0m \u001b[0me\u001b[0m\u001b[0;34m\u001b[0m\u001b[0;34m\u001b[0m\u001b[0m\n\u001b[0m\u001b[1;32m   1012\u001b[0m             \u001b[0;32mexcept\u001b[0m \u001b[0mRevisionNotFoundError\u001b[0m \u001b[0;32mas\u001b[0m \u001b[0me\u001b[0m\u001b[0;34m:\u001b[0m\u001b[0;34m\u001b[0m\u001b[0;34m\u001b[0m\u001b[0m\n\u001b[1;32m   1013\u001b[0m                 raise DatasetNotFoundError(\n",
            "\u001b[0;31mDatasetNotFoundError\u001b[0m: Dataset 'oscar-corpus/OSCAR-2301' is a gated dataset on the Hub. You must be authenticated to access it."
          ]
        }
      ],
      "source": [
        "from datasets import load_dataset\n",
        "# Step 1: Load OSCAR-2301 Dataset for a specific language (e.g. 'mr' for Marathi, 'en' for English)\n",
        "dataset = load_dataset(\"oscar-corpus/OSCAR-2301\", \"unshuffled_deduplicated_en\", split=\"train\", streaming=True)\n"
      ]
    },
    {
      "cell_type": "code",
      "source": [
        "#sample values\n",
        "for i, example in enumerate(islice(dataset, 5)):\n",
        "    print(f\"{example['text']}\")"
      ],
      "metadata": {
        "colab": {
          "base_uri": "https://localhost:8080/"
        },
        "id": "AuGti1uvfl30",
        "outputId": "a78ae107-20d4-4e40-d46c-217e439f3e3f"
      },
      "execution_count": null,
      "outputs": [
        {
          "output_type": "stream",
          "name": "stdout",
          "text": [
            "ऊती संवर्धन तंत्राचे अनेक उपयोग आहेत. या तंत्राचा उपयोग विशेषकरून जीवशास्त्र व वैद्यकशास्त्रात होतो. वयोवृद्धी, पोषण, लसनिर्मिती, जन्मजात रोगांचे निदान, इंद्रियांचे रोपण, कर्करोग संशोधन व गर्भपोषण या क्षेत्रांत ऊती संवर्धन तंत्र प्रामुख्याने वापरले जाते. पेशींच्या चयापचयावर एखाद्या घटकाचा परिणाम पाहणे, सामान्य किंवा कर्करोगाच्या पेशींवर औषधांचा होणारा परिणाम पाहणे, प्रयोगशाळेत त्वचा तयार करणे इ. बाबी ऊती संवर्धनामुळे शक्य झाल्या आहेत. भाजलेल्या रुग्णाच्या त्वचारोपणासाठी ऊती संवर्धनाद्वारे निर्माण केलेली त्वचा वापरली जाते.\n",
            "\n",
            "शहरातील माध्यमिक विभागाच्या शाळा ३ जानेवारीपर्यंत विद्यार्थ्यांसाठी बंद ठेवण्यात येणार आहेत. मात्र, शिक्षकांना शा‌ळेत जाणे अनिवार्य केले आहे. त्यामुळे शिक्षक, शिक्षकेतर कर्मचाऱ्यांना कोरोना तपासणी सक्तीची केली आहे. सोमवारी ५९८ शिक्षकांची तपासणी करण्यात आली. रविवारी २९८ शिक्षकांची तपासणी झाली होती. त्यामध्ये १८ जणांना कोरोनाची बाधा झाल्याचे आढळले.  आतापर्यंत शंभरपेक्षा अधिक शिक्षक, शिक्षकेतर कर्मचारी पॉझिटिव्ह आढळले आहेत.\n",
            "\n",
            "राणे यांनी शिवसेनेच्या मंत्र्यावर केलेल्या आरोपांवर शिवसेनेने कोणतीही प्रतिक्रिया न देण्याचा पवित्रा घेतला आहे.\n"
          ]
        }
      ]
    },
    {
      "cell_type": "code",
      "source": [
        "# Sentence tokenizer\n",
        "def sentence_tokenizer(text):\n",
        "    return re.split(r'(?<=[।!?|])\\s+', text.strip())\n",
        "\n",
        "# Word tokenizer\n",
        "def word_tokenizer(sentence):\n",
        "    pattern = r'''(?x)\n",
        "        (https?://[^\\s]+)                    # URLs\n",
        "      | (\\w+@\\w+\\.\\w+)                       # Emails\n",
        "      | (\\d{1,2}[-/]\\d{1,2}[-/]\\d{2,4})      # Dates\n",
        "      | (\\d+\\.\\d+)                           # Decimals\n",
        "      | (\\d+)                                # Whole numbers\n",
        "      | ([\\u0900-\\u097F]+)                   # Devanagari (Marathi/Hindi) words\n",
        "      | ([a-zA-Z]+)                          # English words\n",
        "      | ([।.,!?;:\"'\\-—()])                   # Punctuation\n",
        "    '''\n",
        "    tokens = re.findall(pattern, sentence)\n",
        "    # Flatten the list of tuples into a single list\n",
        "    return [t for group in tokens for t in group if t]\n"
      ],
      "metadata": {
        "id": "QqMrcnDkR6iO"
      },
      "execution_count": null,
      "outputs": []
    },
    {
      "cell_type": "code",
      "source": [
        "# this is not used (only for understanding)\n",
        "# Word tokenizer\n",
        "#def word_tokenizer(sentence):\n",
        "    pattern = r'''(?x)\n",
        "        (?:https?://[^\\s]+)                   # URLs\n",
        "        | (?:\\w+@\\w+\\.\\w+)                    # Emails\n",
        "        | (?:\\d{1,2}[-/]\\d{1,2}[-/]\\d{2,4})   # Dates\n",
        "        | (?:\\d+\\.\\d+)                        # Decimals\n",
        "        | (?:\\d+)                             # Whole numbers\n",
        "        | (?:\\w+|[^\\w\\s])                     # Words and punctuation\n",
        "    '''\n",
        "    return re.findall(pattern, sentence)\n",
        "# does not properly tokenize Marathi words (Devanagari script) unless you use Unicode-aware regex.\n",
        "#Python's \\w does not include Devanagari characters by default.\n",
        "# This is incorrect, as it's splitting valid Marathi words into letters and matras"
      ],
      "metadata": {
        "id": "I706E1_hU821"
      },
      "execution_count": null,
      "outputs": []
    },
    {
      "cell_type": "code",
      "source": [
        "sentence = sentence_tokenizer('मजकुराचा पैलू  मागील कॅमेरा ?, ड्युअल टोन!! एल. ई. डी. फ्लॅश आणि फिंगरप्रिंट स्कॅनरची सेटअप वैशिष्ट्ये रेडमी नोट 3 सारखीच आहेत|')\n",
        "print(sentence)\n",
        "#Split the text wherever there is a space following a sentence-ending punctuation mark (।, !, ?, or |)"
      ],
      "metadata": {
        "colab": {
          "base_uri": "https://localhost:8080/"
        },
        "id": "-YeioX6sSfws",
        "outputId": "97338d8d-d55d-4642-b05a-dc31edebde8f"
      },
      "execution_count": null,
      "outputs": [
        {
          "output_type": "stream",
          "name": "stdout",
          "text": [
            "['मजकुराचा पैलू  मागील कॅमेरा ?, ड्युअल टोन!!', 'एल. ई. डी. फ्लॅश आणि फिंगरप्रिंट स्कॅनरची सेटअप वैशिष्ट्ये रेडमी नोट 3 सारखीच आहेत|']\n"
          ]
        }
      ]
    },
    {
      "cell_type": "code",
      "source": [
        "#using the unicode- aware tokenizer\n",
        "words = word_tokenizer(sentence[-1])\n",
        "print(words)"
      ],
      "metadata": {
        "colab": {
          "base_uri": "https://localhost:8080/"
        },
        "id": "jaVXQSdBTe0_",
        "outputId": "dce259fd-2081-4e82-dc0f-2d1aa5d46d5c"
      },
      "execution_count": null,
      "outputs": [
        {
          "output_type": "stream",
          "name": "stdout",
          "text": [
            "['एल', '.', 'ई', '.', 'डी', '.', 'फ्लॅश', 'आणि', 'फिंगरप्रिंट', 'स्कॅनरची', 'सेटअप', 'वैशिष्ट्ये', 'रेडमी', 'नोट', '3', 'सारखीच', 'आहेत']\n"
          ]
        }
      ]
    },
    {
      "cell_type": "code",
      "source": [
        "from itertools import islice\n",
        "\n",
        "max_examples = 5000  # Or any other limit\n",
        "tokenized_sentences = []\n",
        "total_words = 0\n",
        "total_chars = 0\n",
        "unique_tokens = set()\n",
        "\n",
        "# Safely iterate over streaming dataset with limit\n",
        "for example in islice(dataset, max_examples):\n",
        "    text = example[\"text\"]\n",
        "    sentences = sentence_tokenizer(text)\n",
        "    for sentence in sentences:\n",
        "        tokens = word_tokenizer(sentence)\n",
        "        if tokens:\n",
        "            tokenized_sentence = \" \".join(tokens)\n",
        "            tokenized_sentences.append(tokenized_sentence)\n",
        "            total_words += len(tokens)\n",
        "            total_chars += sum(len(t) for t in tokens)\n",
        "            unique_tokens.update(tokens)\n",
        "\n",
        "# Step 4: Save to file\n",
        "df = pd.DataFrame({'sentence': tokenized_sentences})\n",
        "df.to_csv(\"marathi_tokenized_sentences.csv\", index=False, encoding=\"utf-8\")\n",
        "# Corpus statistics\n",
        "num_sentences = len(tokenized_sentences)\n",
        "avg_sentence_length = total_words / num_sentences\n",
        "avg_word_length = total_chars / total_words\n",
        "ttr = len(unique_tokens) / total_words\n",
        "token_count = len(unique_tokens)\n",
        "print(\"Corpus Statistics:\")\n",
        "print(f\"Total number of sentences: {num_sentences}\")\n",
        "print(f\"Total number of words: {total_words}\")\n",
        "print(f\"Unique_tokens:{token_count}\")\n",
        "print(f\"Total number of characters: {total_chars}\")\n",
        "print(f\"Average sentence length: {avg_sentence_length:.2f}\")\n",
        "print(f\"Average word length: {avg_word_length:.2f}\")\n",
        "print(f\"Type/Token Ratio (TTR): {ttr:.4f}\")\n"
      ],
      "metadata": {
        "colab": {
          "base_uri": "https://localhost:8080/"
        },
        "id": "95qxNWqUEMgA",
        "outputId": "60596de2-bb38-4dc1-b5e3-3ee955eaab65"
      },
      "execution_count": null,
      "outputs": [
        {
          "output_type": "stream",
          "name": "stdout",
          "text": [
            "Corpus Statistics:\n",
            "Total number of sentences: 2740\n",
            "Total number of words: 119384\n",
            "Unique_tokens:28589\n",
            "Total number of characters: 611030\n",
            "Average sentence length: 43.57\n",
            "Average word length: 5.12\n",
            "Type/Token Ratio (TTR): 0.2395\n"
          ]
        }
      ]
    },
    {
      "cell_type": "code",
      "source": [
        "df.shape"
      ],
      "metadata": {
        "colab": {
          "base_uri": "https://localhost:8080/"
        },
        "id": "byscI0gXDORo",
        "outputId": "4cde074a-28a7-4151-a19a-94b3bc4712ac"
      },
      "execution_count": null,
      "outputs": [
        {
          "output_type": "execute_result",
          "data": {
            "text/plain": [
              "(2740, 1)"
            ]
          },
          "metadata": {},
          "execution_count": 60
        }
      ]
    },
    {
      "cell_type": "code",
      "source": [
        "df1 = pd.read_csv(\"marathi_tokenized_sentences.csv\")\n",
        "df1.head()"
      ],
      "metadata": {
        "colab": {
          "base_uri": "https://localhost:8080/",
          "height": 206
        },
        "id": "I7HlppCDLtSU",
        "outputId": "65caf6f5-309a-4c2a-ba59-34b56712aa59"
      },
      "execution_count": null,
      "outputs": [
        {
          "output_type": "execute_result",
          "data": {
            "text/plain": [
              "                                            sentence\n",
              "0  ऊती संवर्धन तंत्राचे अनेक उपयोग आहेत . या तंत्...\n",
              "1  शहरातील माध्यमिक विभागाच्या शाळा ३ जानेवारीपर्...\n",
              "2  राणे यांनी शिवसेनेच्या मंत्र्यावर केलेल्या आरो...\n",
              "3  त्यामुळे शिरूर तालुक् यात आतापर्यंत आढळलेल्या ...\n",
              "4  प्रत्येक हॅास्पीटलला २५ ते ३० टक्के ॲाक्सीजनचा..."
            ],
            "text/html": [
              "\n",
              "  <div id=\"df-2d9e0950-d021-4c93-9ddc-23633fd6107b\" class=\"colab-df-container\">\n",
              "    <div>\n",
              "<style scoped>\n",
              "    .dataframe tbody tr th:only-of-type {\n",
              "        vertical-align: middle;\n",
              "    }\n",
              "\n",
              "    .dataframe tbody tr th {\n",
              "        vertical-align: top;\n",
              "    }\n",
              "\n",
              "    .dataframe thead th {\n",
              "        text-align: right;\n",
              "    }\n",
              "</style>\n",
              "<table border=\"1\" class=\"dataframe\">\n",
              "  <thead>\n",
              "    <tr style=\"text-align: right;\">\n",
              "      <th></th>\n",
              "      <th>sentence</th>\n",
              "    </tr>\n",
              "  </thead>\n",
              "  <tbody>\n",
              "    <tr>\n",
              "      <th>0</th>\n",
              "      <td>ऊती संवर्धन तंत्राचे अनेक उपयोग आहेत . या तंत्...</td>\n",
              "    </tr>\n",
              "    <tr>\n",
              "      <th>1</th>\n",
              "      <td>शहरातील माध्यमिक विभागाच्या शाळा ३ जानेवारीपर्...</td>\n",
              "    </tr>\n",
              "    <tr>\n",
              "      <th>2</th>\n",
              "      <td>राणे यांनी शिवसेनेच्या मंत्र्यावर केलेल्या आरो...</td>\n",
              "    </tr>\n",
              "    <tr>\n",
              "      <th>3</th>\n",
              "      <td>त्यामुळे शिरूर तालुक् यात आतापर्यंत आढळलेल्या ...</td>\n",
              "    </tr>\n",
              "    <tr>\n",
              "      <th>4</th>\n",
              "      <td>प्रत्येक हॅास्पीटलला २५ ते ३० टक्के ॲाक्सीजनचा...</td>\n",
              "    </tr>\n",
              "  </tbody>\n",
              "</table>\n",
              "</div>\n",
              "    <div class=\"colab-df-buttons\">\n",
              "\n",
              "  <div class=\"colab-df-container\">\n",
              "    <button class=\"colab-df-convert\" onclick=\"convertToInteractive('df-2d9e0950-d021-4c93-9ddc-23633fd6107b')\"\n",
              "            title=\"Convert this dataframe to an interactive table.\"\n",
              "            style=\"display:none;\">\n",
              "\n",
              "  <svg xmlns=\"http://www.w3.org/2000/svg\" height=\"24px\" viewBox=\"0 -960 960 960\">\n",
              "    <path d=\"M120-120v-720h720v720H120Zm60-500h600v-160H180v160Zm220 220h160v-160H400v160Zm0 220h160v-160H400v160ZM180-400h160v-160H180v160Zm440 0h160v-160H620v160ZM180-180h160v-160H180v160Zm440 0h160v-160H620v160Z\"/>\n",
              "  </svg>\n",
              "    </button>\n",
              "\n",
              "  <style>\n",
              "    .colab-df-container {\n",
              "      display:flex;\n",
              "      gap: 12px;\n",
              "    }\n",
              "\n",
              "    .colab-df-convert {\n",
              "      background-color: #E8F0FE;\n",
              "      border: none;\n",
              "      border-radius: 50%;\n",
              "      cursor: pointer;\n",
              "      display: none;\n",
              "      fill: #1967D2;\n",
              "      height: 32px;\n",
              "      padding: 0 0 0 0;\n",
              "      width: 32px;\n",
              "    }\n",
              "\n",
              "    .colab-df-convert:hover {\n",
              "      background-color: #E2EBFA;\n",
              "      box-shadow: 0px 1px 2px rgba(60, 64, 67, 0.3), 0px 1px 3px 1px rgba(60, 64, 67, 0.15);\n",
              "      fill: #174EA6;\n",
              "    }\n",
              "\n",
              "    .colab-df-buttons div {\n",
              "      margin-bottom: 4px;\n",
              "    }\n",
              "\n",
              "    [theme=dark] .colab-df-convert {\n",
              "      background-color: #3B4455;\n",
              "      fill: #D2E3FC;\n",
              "    }\n",
              "\n",
              "    [theme=dark] .colab-df-convert:hover {\n",
              "      background-color: #434B5C;\n",
              "      box-shadow: 0px 1px 3px 1px rgba(0, 0, 0, 0.15);\n",
              "      filter: drop-shadow(0px 1px 2px rgba(0, 0, 0, 0.3));\n",
              "      fill: #FFFFFF;\n",
              "    }\n",
              "  </style>\n",
              "\n",
              "    <script>\n",
              "      const buttonEl =\n",
              "        document.querySelector('#df-2d9e0950-d021-4c93-9ddc-23633fd6107b button.colab-df-convert');\n",
              "      buttonEl.style.display =\n",
              "        google.colab.kernel.accessAllowed ? 'block' : 'none';\n",
              "\n",
              "      async function convertToInteractive(key) {\n",
              "        const element = document.querySelector('#df-2d9e0950-d021-4c93-9ddc-23633fd6107b');\n",
              "        const dataTable =\n",
              "          await google.colab.kernel.invokeFunction('convertToInteractive',\n",
              "                                                    [key], {});\n",
              "        if (!dataTable) return;\n",
              "\n",
              "        const docLinkHtml = 'Like what you see? Visit the ' +\n",
              "          '<a target=\"_blank\" href=https://colab.research.google.com/notebooks/data_table.ipynb>data table notebook</a>'\n",
              "          + ' to learn more about interactive tables.';\n",
              "        element.innerHTML = '';\n",
              "        dataTable['output_type'] = 'display_data';\n",
              "        await google.colab.output.renderOutput(dataTable, element);\n",
              "        const docLink = document.createElement('div');\n",
              "        docLink.innerHTML = docLinkHtml;\n",
              "        element.appendChild(docLink);\n",
              "      }\n",
              "    </script>\n",
              "  </div>\n",
              "\n",
              "\n",
              "    <div id=\"df-7d26ad34-66d2-4375-a700-32db7ebbca37\">\n",
              "      <button class=\"colab-df-quickchart\" onclick=\"quickchart('df-7d26ad34-66d2-4375-a700-32db7ebbca37')\"\n",
              "                title=\"Suggest charts\"\n",
              "                style=\"display:none;\">\n",
              "\n",
              "<svg xmlns=\"http://www.w3.org/2000/svg\" height=\"24px\"viewBox=\"0 0 24 24\"\n",
              "     width=\"24px\">\n",
              "    <g>\n",
              "        <path d=\"M19 3H5c-1.1 0-2 .9-2 2v14c0 1.1.9 2 2 2h14c1.1 0 2-.9 2-2V5c0-1.1-.9-2-2-2zM9 17H7v-7h2v7zm4 0h-2V7h2v10zm4 0h-2v-4h2v4z\"/>\n",
              "    </g>\n",
              "</svg>\n",
              "      </button>\n",
              "\n",
              "<style>\n",
              "  .colab-df-quickchart {\n",
              "      --bg-color: #E8F0FE;\n",
              "      --fill-color: #1967D2;\n",
              "      --hover-bg-color: #E2EBFA;\n",
              "      --hover-fill-color: #174EA6;\n",
              "      --disabled-fill-color: #AAA;\n",
              "      --disabled-bg-color: #DDD;\n",
              "  }\n",
              "\n",
              "  [theme=dark] .colab-df-quickchart {\n",
              "      --bg-color: #3B4455;\n",
              "      --fill-color: #D2E3FC;\n",
              "      --hover-bg-color: #434B5C;\n",
              "      --hover-fill-color: #FFFFFF;\n",
              "      --disabled-bg-color: #3B4455;\n",
              "      --disabled-fill-color: #666;\n",
              "  }\n",
              "\n",
              "  .colab-df-quickchart {\n",
              "    background-color: var(--bg-color);\n",
              "    border: none;\n",
              "    border-radius: 50%;\n",
              "    cursor: pointer;\n",
              "    display: none;\n",
              "    fill: var(--fill-color);\n",
              "    height: 32px;\n",
              "    padding: 0;\n",
              "    width: 32px;\n",
              "  }\n",
              "\n",
              "  .colab-df-quickchart:hover {\n",
              "    background-color: var(--hover-bg-color);\n",
              "    box-shadow: 0 1px 2px rgba(60, 64, 67, 0.3), 0 1px 3px 1px rgba(60, 64, 67, 0.15);\n",
              "    fill: var(--button-hover-fill-color);\n",
              "  }\n",
              "\n",
              "  .colab-df-quickchart-complete:disabled,\n",
              "  .colab-df-quickchart-complete:disabled:hover {\n",
              "    background-color: var(--disabled-bg-color);\n",
              "    fill: var(--disabled-fill-color);\n",
              "    box-shadow: none;\n",
              "  }\n",
              "\n",
              "  .colab-df-spinner {\n",
              "    border: 2px solid var(--fill-color);\n",
              "    border-color: transparent;\n",
              "    border-bottom-color: var(--fill-color);\n",
              "    animation:\n",
              "      spin 1s steps(1) infinite;\n",
              "  }\n",
              "\n",
              "  @keyframes spin {\n",
              "    0% {\n",
              "      border-color: transparent;\n",
              "      border-bottom-color: var(--fill-color);\n",
              "      border-left-color: var(--fill-color);\n",
              "    }\n",
              "    20% {\n",
              "      border-color: transparent;\n",
              "      border-left-color: var(--fill-color);\n",
              "      border-top-color: var(--fill-color);\n",
              "    }\n",
              "    30% {\n",
              "      border-color: transparent;\n",
              "      border-left-color: var(--fill-color);\n",
              "      border-top-color: var(--fill-color);\n",
              "      border-right-color: var(--fill-color);\n",
              "    }\n",
              "    40% {\n",
              "      border-color: transparent;\n",
              "      border-right-color: var(--fill-color);\n",
              "      border-top-color: var(--fill-color);\n",
              "    }\n",
              "    60% {\n",
              "      border-color: transparent;\n",
              "      border-right-color: var(--fill-color);\n",
              "    }\n",
              "    80% {\n",
              "      border-color: transparent;\n",
              "      border-right-color: var(--fill-color);\n",
              "      border-bottom-color: var(--fill-color);\n",
              "    }\n",
              "    90% {\n",
              "      border-color: transparent;\n",
              "      border-bottom-color: var(--fill-color);\n",
              "    }\n",
              "  }\n",
              "</style>\n",
              "\n",
              "      <script>\n",
              "        async function quickchart(key) {\n",
              "          const quickchartButtonEl =\n",
              "            document.querySelector('#' + key + ' button');\n",
              "          quickchartButtonEl.disabled = true;  // To prevent multiple clicks.\n",
              "          quickchartButtonEl.classList.add('colab-df-spinner');\n",
              "          try {\n",
              "            const charts = await google.colab.kernel.invokeFunction(\n",
              "                'suggestCharts', [key], {});\n",
              "          } catch (error) {\n",
              "            console.error('Error during call to suggestCharts:', error);\n",
              "          }\n",
              "          quickchartButtonEl.classList.remove('colab-df-spinner');\n",
              "          quickchartButtonEl.classList.add('colab-df-quickchart-complete');\n",
              "        }\n",
              "        (() => {\n",
              "          let quickchartButtonEl =\n",
              "            document.querySelector('#df-7d26ad34-66d2-4375-a700-32db7ebbca37 button');\n",
              "          quickchartButtonEl.style.display =\n",
              "            google.colab.kernel.accessAllowed ? 'block' : 'none';\n",
              "        })();\n",
              "      </script>\n",
              "    </div>\n",
              "\n",
              "    </div>\n",
              "  </div>\n"
            ],
            "application/vnd.google.colaboratory.intrinsic+json": {
              "type": "dataframe",
              "variable_name": "df1",
              "summary": "{\n  \"name\": \"df1\",\n  \"rows\": 2740,\n  \"fields\": [\n    {\n      \"column\": \"sentence\",\n      \"properties\": {\n        \"dtype\": \"string\",\n        \"num_unique_values\": 2730,\n        \"samples\": [\n          \"\\u092e\\u093e\\u0902\\u091c\\u0930\\u0940\\u091a\\u0940 \\u0917\\u0902\\u0927 \\u0915\\u0936\\u0940 \\u0926\\u0942\\u0930 \\u0915\\u0930\\u093e\\u092f\\u091a\\u0940 ?\",\n          \"\\u0938\\u093e\\u092f\\u0932\\u0940 \\u0938\\u0902\\u091c\\u0940\\u0935\\u0928\\u0947 \\u0915\\u093e\\u0939\\u0940\\u0902 \\u092b\\u094b\\u091f\\u094b \\u0906\\u092a\\u0932\\u094d\\u092f\\u093e \\u0938\\u094b\\u0936\\u0932 \\u092e\\u0940\\u0921\\u093f\\u092f\\u093e\\u0935\\u0930 \\u0936\\u0947\\u0905\\u0930 \\u0915\\u0947\\u0932\\u094d\\u092f\\u093e\\u092a\\u093e\\u0938\\u0942\\u0928 \\u0938\\u093e\\u092f\\u0932\\u0940\\u091a\\u094d\\u092f\\u093e \\u0906\\u0923\\u093f \\u090b\\u0924\\u0941\\u0930\\u093e\\u091c\\u091a\\u094d\\u092f\\u093e \\u091a\\u093e\\u0939\\u0924\\u094d\\u092f\\u093e\\u0902\\u091a\\u094d\\u092f\\u093e \\u0915\\u092e\\u0947\\u0902\\u091f \\u0915\\u0930\\u093e\\u092f\\u0932\\u093e \\u0938\\u0941\\u0930\\u0942\\u0935\\u093e\\u0924 \\u0915\\u0947\\u0932\\u0940 \\u0906\\u0939\\u0947 . \\u090b\\u0924\\u0942 \\u092a\\u0941\\u0923\\u094d\\u092f\\u093e\\u0924 \\u0906\\u0932\\u094d\\u092f\\u093e\\u092e\\u0942\\u0933\\u0947 \\u0938\\u093e\\u0921\\u0940\\u0935\\u0930 \\u092a\\u093e\\u0939\\u0923\\u094d\\u092f\\u093e\\u091a\\u093e \\u0915\\u093e\\u0930\\u094d\\u092f\\u0915\\u094d\\u0930\\u092e \\u0909\\u0930\\u0915\\u0942\\u0928 \\u0918\\u0947\\u0924\\u0932\\u093e \\u0935\\u093e\\u091f\\u0924\\u0902 , Mrs . Gaikwad , \\u090b\\u0924\\u0941 \\u0915\\u093e \\u0930\\u093e\\u091c , \\u0917\\u093e\\u092f\\u0915\\u0935\\u093e\\u0921 \\u092c\\u093e\\u0908 , \\u0938\\u093e\\u092f\\u0932\\u0940 \\u090b\\u0924\\u0941\\u0930\\u093e\\u091c \\u0917\\u093e\\u092f\\u0915\\u0935\\u093e\\u0921 ( \\u092a\\u0941\\u0923\\u0947\\u0915\\u0930 ) , \\u0928\\u092e\\u0938\\u094d\\u0915\\u093e\\u0930 \\u0917\\u093e\\u092f\\u0915\\u0935\\u093e\\u0921 \\u0935\\u0939\\u093f\\u0928\\u0940 \\u0915\\u093e\\u092f \\u092e\\u094d\\u0939\\u0923\\u0924\\u093e ?\",\n          \"\\u0935\\u093f\\u0915\\u093e\\u0938\\u093e\\u091a\\u0947 \\u0938\\u094d\\u0935\\u092a\\u094d\\u0928 \\u092a\\u093e\\u0939\\u0923\\u093e\\u0931\\u094d\\u092f\\u093e \\u092f\\u093e \\u0915\\u093e\\u092e\\u0917\\u093e\\u0930\\u093e\\u0902\\u091a\\u094d\\u092f\\u093e \\u0906\\u0938\\u094d\\u0924\\u093f\\u0924\\u094d\\u0935\\u093e\\u0938\\u093e\\u0920\\u0940 \\u0926\\u0947\\u0936\\u092d\\u0930\\u093e\\u0924\\u0940\\u0932 \\u0915\\u093e\\u092e\\u0917\\u093e\\u0930 \\u0938\\u0902\\u0918\\u091f\\u0928\\u093e \\u0906\\u091c\\u0939\\u0940 \\u0935\\u094d\\u092f\\u0935\\u0938\\u094d\\u0925\\u0947\\u0936\\u0940 \\u0928\\u093f\\u0915\\u0930\\u093e\\u091a\\u093e \\u0932\\u0922\\u093e \\u0926\\u0947\\u0924 \\u0906\\u0939\\u0947\\u0924 . \\u0924\\u094d\\u092f\\u093e\\u092e\\u0941\\u0933\\u0947\\u091a \\u0906\\u091c \\u0939\\u093e \\u0938\\u0930\\u094d\\u0935\\u0938\\u093e\\u092e\\u093e\\u0928\\u094d\\u092f \\u0915\\u093e\\u092e\\u0917\\u093e\\u0930 \\u0928\\u093f\\u0926\\u093e\\u0928 \\u0938\\u0941\\u0916\\u093e\\u091a\\u093e \\u0918\\u093e\\u0938 \\u0924\\u0930\\u0940 \\u0916\\u093e\\u0924\\u093e\\u0928\\u093e \\u0926\\u093f\\u0938\\u0924 \\u0906\\u0939\\u0947 , \\u0905\\u0938\\u0947 \\u0938\\u093e\\u0902\\u0917\\u0924 \\u0915\\u093e\\u092e\\u0917\\u093e\\u0930 \\u0928\\u0947\\u0924\\u0947 \\u0938\\u092f\\u094d\\u092f\\u0926 \\u092e\\u094d\\u0939\\u0923\\u093e\\u0932\\u0947 \\u0915\\u0940 , \\u0915\\u094b\\u0930\\u094b\\u0928\\u093e\\u092e\\u0941\\u0933\\u0947 \\u0926\\u0947\\u0936\\u092d\\u0930\\u093e\\u0924 \\u0932\\u0949\\u0915\\u0921\\u093e\\u090a\\u0928 \\u0906\\u0939\\u0947 . \\u0930\\u093e\\u091c\\u094d\\u092f \\u0936\\u093e\\u0938\\u0928\\u093e\\u0928\\u0947 \\u0935 \\u0915\\u093e\\u092e\\u0917\\u093e\\u0930 \\u0935\\u093f\\u092d\\u093e\\u0917\\u093e\\u0928\\u0947 \\u0915\\u093e\\u092e\\u0917\\u093e\\u0930\\u093e\\u0902\\u0928\\u093e \\u0925\\u094b\\u0921\\u0940\\u092b\\u093e\\u0930 \\u0906\\u0930\\u094d\\u0925\\u093f\\u0915 \\u092e\\u0926\\u0924 \\u0915\\u0947\\u0932\\u0940 . \\u092a\\u093f\\u0902\\u092a\\u0930\\u0940 - \\u091a\\u093f\\u0902\\u091a\\u0935\\u0921 \\u0936\\u0939\\u0930\\u093e\\u0924 \\u0926\\u0947\\u0916\\u0940\\u0932 \\u092e\\u0939\\u093e\\u0930\\u093e\\u0937\\u094d\\u091f\\u094d\\u0930 \\u092e\\u091c\\u0926\\u0942\\u0930 \\u0938\\u0902\\u0918\\u091f\\u0928\\u0947\\u0928\\u0947 \\u0935 \\u0915\\u093e\\u0939\\u0940 \\u0938\\u094d\\u0935\\u092f\\u0902\\u0938\\u0947\\u0935\\u0940 \\u0938\\u0902\\u0938\\u094d\\u0925\\u093e\\u0902\\u0928\\u0940 \\u092a\\u0941\\u0922\\u093e\\u0915\\u093e\\u0930 \\u0918\\u0947\\u090a\\u0928 , \\u0915\\u093e\\u092e\\u0917\\u093e\\u0930\\u093e\\u0902\\u0928\\u093e \\u0905\\u0928\\u094d\\u0928 \\u0927\\u093e\\u0928\\u094d\\u092f , \\u0924\\u092f\\u093e\\u0930 \\u091c\\u0947\\u0935\\u0928 \\u092a\\u0941\\u0930\\u0935\\u0923\\u094d\\u092f\\u093e\\u091a\\u0940 \\u091c\\u092c\\u093e\\u092c\\u0926\\u093e\\u0930\\u0940 \\u0918\\u0947\\u0924\\u0932\\u0940 .\"\n        ],\n        \"semantic_type\": \"\",\n        \"description\": \"\"\n      }\n    }\n  ]\n}"
            }
          },
          "metadata": {},
          "execution_count": 62
        }
      ]
    },
    {
      "cell_type": "markdown",
      "source": [
        " ✅ For CSV files opened in Excel:\n",
        "When opening in Excel:\n",
        "\n",
        "Don't double-click to open!\n",
        "\n",
        "Instead:\n",
        "\n",
        "Open Excel.\n",
        "\n",
        "Go to File > Open > Browse.\n",
        "\n",
        "In the Open dialog, select \"All Files\" and choose your CSV.\n",
        "\n",
        "You'll get a Text Import Wizard:\n",
        "\n",
        "Select \"65001: Unicode (UTF-8)\" as the encoding.\n",
        "\n",
        "Use comma (,) as delimiter.\n",
        "\n",
        "Finish.\n",
        "\n",
        "This will render Marathi text correctly."
      ],
      "metadata": {
        "id": "ngU52T1AhIcr"
      }
    },
    {
      "cell_type": "code",
      "source": [
        "#!pip install pyarrow\n",
        "# Assuming df is your DataFrame with tokenized sentences\n",
        "df.to_parquet(\"marathi_tokenized_sentences.parquet\", engine='pyarrow', compression='snappy', index=False)"
      ],
      "metadata": {
        "id": "NAHpVz8ChY2d"
      },
      "execution_count": null,
      "outputs": []
    },
    {
      "cell_type": "code",
      "source": [
        "word_lengths = [len(word) for sentence in tokenized_sentences for word in sentence.split()]\n",
        "sentence_lengths = [len(sentence.split()) for sentence in tokenized_sentences]\n",
        "all_words = [word for sentence in tokenized_sentences for word in sentence.split()]\n",
        "word_freq = Counter(all_words).most_common(20)\n",
        "# Plot 1: Word Length Distribution\n",
        "plt.figure(figsize=(8, 5))\n",
        "sns.histplot(word_lengths, bins=range(1, max(word_lengths) + 1), kde=False)\n",
        "plt.title(\"Distribution of Word Lengths\")\n",
        "plt.xlabel(\"Word Length\")\n",
        "plt.ylabel(\"Frequency\")\n",
        "plt.tight_layout()\n",
        "plt.show()"
      ],
      "metadata": {
        "colab": {
          "base_uri": "https://localhost:8080/",
          "height": 507
        },
        "collapsed": true,
        "id": "wakaVOIQZ0Pp",
        "outputId": "ce0a495a-acb4-4985-f79b-e3800453fc7b"
      },
      "execution_count": null,
      "outputs": [
        {
          "output_type": "display_data",
          "data": {
            "text/plain": [
              "<Figure size 800x500 with 1 Axes>"
            ],
            "image/png": "[encoded data removed]"
          },
          "metadata": {}
        }
      ]
    },
    {
      "cell_type": "code",
      "source": [
        "# Plot 2: Sentence Length Distribution\n",
        "plt.figure(figsize=(8, 5))\n",
        "sns.histplot(sentence_lengths, bins=range(1, max(sentence_lengths) + 1), kde=False)\n",
        "plt.title(\"Distribution of Sentence Lengths\")\n",
        "plt.xlabel(\"Number of Words per Sentence\")\n",
        "plt.ylabel(\"Frequency\")\n",
        "plt.tight_layout()\n",
        "plt.show()"
      ],
      "metadata": {
        "colab": {
          "base_uri": "https://localhost:8080/",
          "height": 507
        },
        "id": "-LoKdMaxbEev",
        "outputId": "09378cc9-7d8a-4745-9ce2-debe382392f9"
      },
      "execution_count": null,
      "outputs": [
        {
          "output_type": "display_data",
          "data": {
            "text/plain": [
              "<Figure size 800x500 with 1 Axes>"
            ],
            "image/png": "[encoded data removed]"
          },
          "metadata": {}
        }
      ]
    },
    {
      "cell_type": "code",
      "source": [],
      "metadata": {
        "id": "iAKIvZ9ubPWL"
      },
      "execution_count": null,
      "outputs": []
    },
    {
      "cell_type": "code",
      "metadata": {
        "id": "df2293fe"
      },
      "source": [
        "!pip install -U datasets"
      ],
      "execution_count": null,
      "outputs": []
    },
    {
      "cell_type": "code",
      "metadata": {
        "id": "cc462fb5"
      },
      "source": [
        "from huggingface_hub import notebook_login\n",
        "notebook_login()"
      ],
      "execution_count": null,
      "outputs": []
    }
  ]
}